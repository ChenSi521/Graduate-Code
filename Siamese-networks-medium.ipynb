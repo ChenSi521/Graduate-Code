{
 "cells": [
  {
   "cell_type": "markdown",
   "metadata": {},
   "source": [
    "# One Shot Learning with Siamese Networks\n",
    "\n",
    "This is the jupyter notebook that accompanies"
   ]
  },
  {
   "cell_type": "markdown",
   "metadata": {},
   "source": [
    "## Imports\n",
    "All the imports are defined here"
   ]
  },
  {
   "cell_type": "code",
   "execution_count": 1,
   "metadata": {
    "collapsed": true
   },
   "outputs": [],
   "source": [
    "%matplotlib inline\n",
    "import torchvision\n",
    "import torchvision.datasets as dset\n",
    "import torchvision.transforms as transforms\n",
    "from torch.utils.data import DataLoader,Dataset\n",
    "import matplotlib.pyplot as plt\n",
    "import torchvision.utils\n",
    "import numpy as np\n",
    "import random\n",
    "from PIL import Image\n",
    "import torch\n",
    "from torch.autograd import Variable\n",
    "import PIL.ImageOps    \n",
    "import torch.nn as nn\n",
    "from torch import optim\n",
    "import torch.nn.functional as F"
   ]
  },
  {
   "cell_type": "markdown",
   "metadata": {},
   "source": [
    "## Helper functions\n",
    "Set of helper functions"
   ]
  },
  {
   "cell_type": "code",
   "execution_count": 93,
   "metadata": {
    "collapsed": true
   },
   "outputs": [],
   "source": [
    "def imshow(img,text=None,should_save=False):\n",
    "    npimg = img.numpy()\n",
    "    plt.axis(\"off\")\n",
    "    if text:\n",
    "        plt.text(75, 8, text, style='italic',fontweight='bold',\n",
    "            bbox={'facecolor':'white', 'alpha':0.8, 'pad':10})\n",
    "    plt.imshow(np.transpose(npimg, (1, 2, 0)))\n",
    "    plt.show()    \n",
    "\n",
    "def show_plot(iteration,loss):\n",
    "    plt.plot(iteration,loss)\n",
    "    plt.show()"
   ]
  },
  {
   "cell_type": "markdown",
   "metadata": {},
   "source": [
    "## Configuration Class\n",
    "A simple class to manage configuration"
   ]
  },
  {
   "cell_type": "code",
   "execution_count": 15,
   "metadata": {
    "collapsed": true
   },
   "outputs": [],
   "source": [
    "class Config():\n",
    "    training_dir = \"./data/faces/training/\"\n",
    "    testing_dir = \"./data/faces/testing/\"\n",
    "    train_batch_size = 64\n",
    "    train_number_epochs = 100"
   ]
  },
  {
   "cell_type": "markdown",
   "metadata": {},
   "source": [
    "## Custom Dataset Class\n",
    "This dataset generates a pair of images. 0 for geniune pair and 1 for imposter pair"
   ]
  },
  {
   "cell_type": "code",
   "execution_count": 4,
   "metadata": {
    "collapsed": true
   },
   "outputs": [],
   "source": [
    "class SiameseNetworkDataset(Dataset):\n",
    "    \n",
    "    def __init__(self,imageFolderDataset,transform=None,should_invert=True):\n",
    "        self.imageFolderDataset = imageFolderDataset    \n",
    "        self.transform = transform\n",
    "        self.should_invert = should_invert\n",
    "        \n",
    "    def __getitem__(self,index):\n",
    "        img0_tuple = random.choice(self.imageFolderDataset.imgs)\n",
    "        #we need to make sure approx 50% of images are in the same class\n",
    "        should_get_same_class = random.randint(0,1) \n",
    "        if should_get_same_class:\n",
    "            while True:\n",
    "                #keep looping till the same class image is found\n",
    "                img1_tuple = random.choice(self.imageFolderDataset.imgs) \n",
    "                if img0_tuple[1]==img1_tuple[1]:\n",
    "                    break\n",
    "        else:\n",
    "            img1_tuple = random.choice(self.imageFolderDataset.imgs)\n",
    "\n",
    "        img0 = Image.open(img0_tuple[0])\n",
    "        img1 = Image.open(img1_tuple[0])\n",
    "        img0 = img0.convert(\"L\")\n",
    "        img1 = img1.convert(\"L\")\n",
    "        \n",
    "        if self.should_invert:\n",
    "            img0 = PIL.ImageOps.invert(img0)\n",
    "            img1 = PIL.ImageOps.invert(img1)\n",
    "\n",
    "        if self.transform is not None:\n",
    "            img0 = self.transform(img0)\n",
    "            img1 = self.transform(img1)\n",
    "        \n",
    "        return img0, img1 , torch.from_numpy(np.array([int(img1_tuple[1]!=img0_tuple[1])],dtype=np.float32))\n",
    "    \n",
    "    def __len__(self):\n",
    "        return len(self.imageFolderDataset.imgs)"
   ]
  },
  {
   "cell_type": "markdown",
   "metadata": {},
   "source": [
    "## Using Image Folder Dataset"
   ]
  },
  {
   "cell_type": "code",
   "execution_count": 5,
   "metadata": {
    "collapsed": true
   },
   "outputs": [],
   "source": [
    "folder_dataset = dset.ImageFolder(root=Config.training_dir)"
   ]
  },
  {
   "cell_type": "code",
   "execution_count": 6,
   "metadata": {
    "collapsed": true
   },
   "outputs": [],
   "source": [
    "siamese_dataset = SiameseNetworkDataset(imageFolderDataset=folder_dataset,\n",
    "                                        transform=transforms.Compose([transforms.Scale((100,100)),\n",
    "                                                                      transforms.ToTensor()\n",
    "                                                                      ])\n",
    "                                       ,should_invert=False)"
   ]
  },
  {
   "cell_type": "markdown",
   "metadata": {},
   "source": [
    "## Visualising some of the data\n",
    "The top row and the bottom row of any column is one pair. The 0s and 1s correspond to the column of the image.\n",
    "0 indiciates dissimilar, and 1 indicates similar."
   ]
  },
  {
   "cell_type": "code",
   "execution_count": 7,
   "metadata": {},
   "outputs": [
    {
     "data": {
      "image/png": "[encoded data removed]",
      "text/plain": [
       "<matplotlib.figure.Figure at 0x7f2f16f3ac18>"
      ]
     },
     "metadata": {},
     "output_type": "display_data"
    },
    {
     "name": "stdout",
     "output_type": "stream",
     "text": [
      "[[ 0.]\n",
      " [ 0.]\n",
      " [ 0.]\n",
      " [ 0.]\n",
      " [ 1.]\n",
      " [ 1.]\n",
      " [ 1.]\n",
      " [ 1.]]\n"
     ]
    }
   ],
   "source": [
    "vis_dataloader = DataLoader(siamese_dataset,\n",
    "                        shuffle=True,\n",
    "                        num_workers=8,\n",
    "                        batch_size=8)\n",
    "dataiter = iter(vis_dataloader)\n",
    "\n",
    "\n",
    "example_batch = next(dataiter)\n",
    "concatenated = torch.cat((example_batch[0],example_batch[1]),0)\n",
    "imshow(torchvision.utils.make_grid(concatenated))\n",
    "print(example_batch[2].numpy())"
   ]
  },
  {
   "cell_type": "markdown",
   "metadata": {
    "collapsed": true
   },
   "source": [
    "## Neural Net Definition\n",
    "We will use a standard convolutional neural network"
   ]
  },
  {
   "cell_type": "code",
   "execution_count": 8,
   "metadata": {
    "collapsed": true
   },
   "outputs": [],
   "source": [
    "class SiameseNetwork(nn.Module):\n",
    "    def __init__(self):\n",
    "        super(SiameseNetwork, self).__init__()\n",
    "        self.cnn1 = nn.Sequential(\n",
    "            nn.ReflectionPad2d(1),\n",
    "            nn.Conv2d(1, 4, kernel_size=3),\n",
    "            nn.ReLU(inplace=True),\n",
    "            nn.BatchNorm2d(4),\n",
    "            nn.Dropout2d(p=.2),\n",
    "            \n",
    "            nn.ReflectionPad2d(1),\n",
    "            nn.Conv2d(4, 8, kernel_size=3),\n",
    "            nn.ReLU(inplace=True),\n",
    "            nn.BatchNorm2d(8),\n",
    "            nn.Dropout2d(p=.2),\n",
    "\n",
    "            nn.ReflectionPad2d(1),\n",
    "            nn.Conv2d(8, 8, kernel_size=3),\n",
    "            nn.ReLU(inplace=True),\n",
    "            nn.BatchNorm2d(8),\n",
    "            nn.Dropout2d(p=.2),\n",
    "        )\n",
    "\n",
    "        self.fc1 = nn.Sequential(\n",
    "            nn.Linear(8*100*100, 500),\n",
    "            nn.ReLU(inplace=True),\n",
    "\n",
    "            nn.Linear(500, 500),\n",
    "            nn.ReLU(inplace=True),\n",
    "\n",
    "            nn.Linear(500, 5))\n",
    "\n",
    "    def forward_once(self, x):\n",
    "        output = self.cnn1(x)\n",
    "        output = output.view(output.size()[0], -1)\n",
    "        output = self.fc1(output)\n",
    "        return output\n",
    "\n",
    "    def forward(self, input1, input2):\n",
    "        output1 = self.forward_once(input1)\n",
    "        output2 = self.forward_once(input2)\n",
    "        return output1, output2"
   ]
  },
  {
   "cell_type": "markdown",
   "metadata": {},
   "source": [
    "## Contrastive Loss"
   ]
  },
  {
   "cell_type": "code",
   "execution_count": 9,
   "metadata": {
    "collapsed": true
   },
   "outputs": [],
   "source": [
    "class ContrastiveLoss(torch.nn.Module):\n",
    "    \"\"\"\n",
    "    Contrastive loss function.\n",
    "    Based on: http://yann.lecun.com/exdb/publis/pdf/hadsell-chopra-lecun-06.pdf\n",
    "    \"\"\"\n",
    "\n",
    "    def __init__(self, margin=2.0):\n",
    "        super(ContrastiveLoss, self).__init__()\n",
    "        self.margin = margin\n",
    "\n",
    "    def forward(self, output1, output2, label):\n",
    "        euclidean_distance = F.pairwise_distance(output1, output2)\n",
    "        loss_contrastive = torch.mean((1-label) * torch.pow(euclidean_distance, 2) +\n",
    "                                      (label) * torch.pow(torch.clamp(self.margin - euclidean_distance, min=0.0), 2))\n",
    "\n",
    "\n",
    "        return loss_contrastive"
   ]
  },
  {
   "cell_type": "markdown",
   "metadata": {},
   "source": [
    "## Training Time!"
   ]
  },
  {
   "cell_type": "code",
   "execution_count": 10,
   "metadata": {
    "collapsed": true
   },
   "outputs": [],
   "source": [
    "train_dataloader = DataLoader(siamese_dataset,\n",
    "                        shuffle=True,\n",
    "                        num_workers=8,\n",
    "                        batch_size=Config.train_batch_size)"
   ]
  },
  {
   "cell_type": "code",
   "execution_count": 11,
   "metadata": {
    "collapsed": true
   },
   "outputs": [],
   "source": [
    "net = SiameseNetwork().cuda()\n",
    "criterion = ContrastiveLoss()\n",
    "optimizer = optim.Adam(net.parameters(),lr = 0.0005 )"
   ]
  },
  {
   "cell_type": "code",
   "execution_count": 12,
   "metadata": {
    "collapsed": true
   },
   "outputs": [],
   "source": [
    "counter = []\n",
    "loss_history = [] \n",
    "iteration_number= 0"
   ]
  },
  {
   "cell_type": "code",
   "execution_count": 63,
   "metadata": {
    "scrolled": true
   },
   "outputs": [
    {
     "name": "stdout",
     "output_type": "stream",
     "text": [
      "Epoch number 0\n",
      " Current loss 1.533158302307129\n",
      "\n",
      "Epoch number 1\n",
      " Current loss 2.9323997497558594\n",
      "\n",
      "Epoch number 2\n",
      " Current loss 1.3263850212097168\n",
      "\n",
      "Epoch number 3\n",
      " Current loss 2.658734083175659\n",
      "\n",
      "Epoch number 4\n",
      " Current loss 1.3008321523666382\n",
      "\n",
      "Epoch number 5\n",
      " Current loss 1.639910340309143\n",
      "\n",
      "Epoch number 6\n",
      " Current loss 1.3741188049316406\n",
      "\n",
      "Epoch number 7\n",
      " Current loss 1.1272757053375244\n",
      "\n",
      "Epoch number 8\n",
      " Current loss 1.6025044918060303\n",
      "\n",
      "Epoch number 9\n",
      " Current loss 0.8411911129951477\n",
      "\n",
      "Epoch number 10\n",
      " Current loss 1.5298668146133423\n",
      "\n",
      "Epoch number 11\n",
      " Current loss 0.9592485427856445\n",
      "\n",
      "Epoch number 12\n",
      " Current loss 1.0067801475524902\n",
      "\n",
      "Epoch number 13\n",
      " Current loss 0.8730716705322266\n",
      "\n",
      "Epoch number 14\n",
      " Current loss 0.8735465407371521\n",
      "\n",
      "Epoch number 15\n",
      " Current loss 0.8504045605659485\n",
      "\n",
      "Epoch number 16\n",
      " Current loss 0.7596009373664856\n",
      "\n",
      "Epoch number 17\n",
      " Current loss 0.9446077942848206\n",
      "\n",
      "Epoch number 18\n",
      " Current loss 1.023537039756775\n",
      "\n",
      "Epoch number 19\n",
      " Current loss 0.5780060887336731\n",
      "\n",
      "Epoch number 20\n",
      " Current loss 0.5758188962936401\n",
      "\n",
      "Epoch number 21\n",
      " Current loss 0.5612518191337585\n",
      "\n",
      "Epoch number 22\n",
      " Current loss 0.641782283782959\n",
      "\n",
      "Epoch number 23\n",
      " Current loss 0.6175714731216431\n",
      "\n",
      "Epoch number 24\n",
      " Current loss 0.6164100170135498\n",
      "\n",
      "Epoch number 25\n",
      " Current loss 0.5844079852104187\n",
      "\n",
      "Epoch number 26\n",
      " Current loss 0.5944713950157166\n",
      "\n",
      "Epoch number 27\n",
      " Current loss 0.6683549284934998\n",
      "\n",
      "Epoch number 28\n",
      " Current loss 0.5563598275184631\n",
      "\n",
      "Epoch number 29\n",
      " Current loss 0.5321105718612671\n",
      "\n",
      "Epoch number 30\n",
      " Current loss 0.44139981269836426\n",
      "\n",
      "Epoch number 31\n",
      " Current loss 0.6131659150123596\n",
      "\n",
      "Epoch number 32\n",
      " Current loss 0.5526012778282166\n",
      "\n",
      "Epoch number 33\n",
      " Current loss 0.6335225701332092\n",
      "\n",
      "Epoch number 34\n",
      " Current loss 0.5078917741775513\n",
      "\n",
      "Epoch number 35\n",
      " Current loss 0.5067867040634155\n",
      "\n",
      "Epoch number 36\n",
      " Current loss 0.5779807567596436\n",
      "\n",
      "Epoch number 37\n",
      " Current loss 0.5910480618476868\n",
      "\n",
      "Epoch number 38\n",
      " Current loss 0.5989435911178589\n",
      "\n",
      "Epoch number 39\n",
      " Current loss 0.551940381526947\n",
      "\n",
      "Epoch number 40\n",
      " Current loss 0.6532068848609924\n",
      "\n",
      "Epoch number 41\n",
      " Current loss 0.41040295362472534\n",
      "\n",
      "Epoch number 42\n",
      " Current loss 0.3508054316043854\n",
      "\n",
      "Epoch number 43\n",
      " Current loss 0.41227659583091736\n",
      "\n",
      "Epoch number 44\n",
      " Current loss 0.5318877100944519\n",
      "\n",
      "Epoch number 45\n",
      " Current loss 0.49562186002731323\n",
      "\n",
      "Epoch number 46\n",
      " Current loss 0.2942555546760559\n",
      "\n",
      "Epoch number 47\n",
      " Current loss 0.38584277033805847\n",
      "\n",
      "Epoch number 48\n",
      " Current loss 0.38666215538978577\n",
      "\n",
      "Epoch number 49\n",
      " Current loss 0.40949398279190063\n",
      "\n",
      "Epoch number 50\n",
      " Current loss 0.4857412278652191\n",
      "\n",
      "Epoch number 51\n",
      " Current loss 0.34490254521369934\n",
      "\n",
      "Epoch number 52\n",
      " Current loss 0.3555058538913727\n",
      "\n",
      "Epoch number 53\n",
      " Current loss 0.341916024684906\n",
      "\n",
      "Epoch number 54\n",
      " Current loss 0.30871278047561646\n",
      "\n",
      "Epoch number 55\n",
      " Current loss 0.7999067306518555\n",
      "\n",
      "Epoch number 56\n",
      " Current loss 0.3556167185306549\n",
      "\n",
      "Epoch number 57\n",
      " Current loss 0.2678963840007782\n",
      "\n",
      "Epoch number 58\n",
      " Current loss 0.3148438036441803\n",
      "\n",
      "Epoch number 59\n",
      " Current loss 0.39129382371902466\n",
      "\n",
      "Epoch number 60\n",
      " Current loss 0.4827001392841339\n",
      "\n",
      "Epoch number 61\n",
      " Current loss 0.4577491879463196\n",
      "\n",
      "Epoch number 62\n",
      " Current loss 0.392761766910553\n",
      "\n",
      "Epoch number 63\n",
      " Current loss 0.3998594284057617\n",
      "\n",
      "Epoch number 64\n",
      " Current loss 0.4835646450519562\n",
      "\n",
      "Epoch number 65\n",
      " Current loss 0.2857019603252411\n",
      "\n",
      "Epoch number 66\n",
      " Current loss 0.35405978560447693\n",
      "\n",
      "Epoch number 67\n",
      " Current loss 0.3874605894088745\n",
      "\n",
      "Epoch number 68\n",
      " Current loss 0.3252284824848175\n",
      "\n",
      "Epoch number 69\n",
      " Current loss 0.33204635977745056\n",
      "\n",
      "Epoch number 70\n",
      " Current loss 0.4168483316898346\n",
      "\n",
      "Epoch number 71\n",
      " Current loss 0.3335677981376648\n",
      "\n",
      "Epoch number 72\n",
      " Current loss 0.3549787104129791\n",
      "\n",
      "Epoch number 73\n",
      " Current loss 0.3313119411468506\n",
      "\n",
      "Epoch number 74\n",
      " Current loss 0.33711498975753784\n",
      "\n",
      "Epoch number 75\n",
      " Current loss 0.32044121623039246\n",
      "\n",
      "Epoch number 76\n",
      " Current loss 0.416996568441391\n",
      "\n",
      "Epoch number 77\n",
      " Current loss 0.3235916793346405\n",
      "\n",
      "Epoch number 78\n",
      " Current loss 0.22570620477199554\n",
      "\n",
      "Epoch number 79\n",
      " Current loss 0.3964919149875641\n",
      "\n",
      "Epoch number 80\n",
      " Current loss 0.27311044931411743\n",
      "\n",
      "Epoch number 81\n",
      " Current loss 0.3262175917625427\n",
      "\n",
      "Epoch number 82\n",
      " Current loss 0.32287198305130005\n",
      "\n",
      "Epoch number 83\n",
      " Current loss 0.3046836853027344\n",
      "\n",
      "Epoch number 84\n",
      " Current loss 0.27225208282470703\n",
      "\n",
      "Epoch number 85\n",
      " Current loss 0.31954100728034973\n",
      "\n",
      "Epoch number 86\n",
      " Current loss 0.3315045237541199\n",
      "\n",
      "Epoch number 87\n",
      " Current loss 0.4315215051174164\n",
      "\n",
      "Epoch number 88\n",
      " Current loss 0.2631872594356537\n",
      "\n",
      "Epoch number 89\n",
      " Current loss 0.31313031911849976\n",
      "\n",
      "Epoch number 90\n",
      " Current loss 0.28468945622444153\n",
      "\n",
      "Epoch number 91\n",
      " Current loss 0.34112831950187683\n",
      "\n",
      "Epoch number 92\n",
      " Current loss 0.2746431827545166\n",
      "\n",
      "Epoch number 93\n",
      " Current loss 0.20362019538879395\n",
      "\n",
      "Epoch number 94\n",
      " Current loss 0.3141821026802063\n",
      "\n",
      "Epoch number 95\n",
      " Current loss 0.28343573212623596\n",
      "\n",
      "Epoch number 96\n",
      " Current loss 0.31322476267814636\n",
      "\n",
      "Epoch number 97\n",
      " Current loss 0.2453240156173706\n",
      "\n",
      "Epoch number 98\n",
      " Current loss 0.34754714369773865\n",
      "\n",
      "Epoch number 99\n",
      " Current loss 0.22099332511425018\n",
      "\n"
     ]
    },
    {
     "data": {
      "image/png": "[encoded data removed]",
      "text/plain": [
       "<matplotlib.figure.Figure at 0x7f2f17398ba8>"
      ]
     },
     "metadata": {},
     "output_type": "display_data"
    }
   ],
   "source": [
    "for epoch in range(0,Config.train_number_epochs):\n",
    "    for i, data in enumerate(train_dataloader,0):\n",
    "        img0, img1 , label = data\n",
    "        img0, img1 , label = Variable(img0).cuda(), Variable(img1).cuda() , Variable(label).cuda()\n",
    "        output1,output2 = net(img0,img1)\n",
    "        optimizer.zero_grad()\n",
    "        loss_contrastive = criterion(output1,output2,label)\n",
    "        loss_contrastive.backward()\n",
    "        optimizer.step()\n",
    "        if i %10 == 0 :\n",
    "            print(\"Epoch number {}\\n Current loss {}\\n\".format(epoch,loss_contrastive.data[0]))\n",
    "            iteration_number +=10\n",
    "            counter.append(iteration_number)\n",
    "            loss_history.append(loss_contrastive.data[0])\n",
    "show_plot(counter,loss_history)"
   ]
  },
  {
   "cell_type": "markdown",
   "metadata": {},
   "source": [
    "## Some simple testing\n",
    "The last 3 subjects were held out from the training, and will be used to test. The Distance between each image pair denotes the degree of similarity the model found between the two images. Less means it found more similar, while higher values indicate it found them to be dissimilar."
   ]
  },
  {
   "cell_type": "code",
   "execution_count": 3,
   "metadata": {
    "run_control": {
     "marked": true
    },
    "scrolled": false
   },
   "outputs": [
    {
     "ename": "NameError",
     "evalue": "name 'dset' is not defined",
     "output_type": "error",
     "traceback": [
      "\u001b[1;31m---------------------------------------------------------------------------\u001b[0m",
      "\u001b[1;31mNameError\u001b[0m                                 Traceback (most recent call last)",
      "\u001b[1;32m<ipython-input-3-cdb9635fcfbc>\u001b[0m in \u001b[0;36m<module>\u001b[1;34m()\u001b[0m\n\u001b[1;32m----> 1\u001b[1;33m \u001b[0mfolder_dataset_test\u001b[0m \u001b[1;33m=\u001b[0m \u001b[0mdset\u001b[0m\u001b[1;33m.\u001b[0m\u001b[0mImageFolder\u001b[0m\u001b[1;33m(\u001b[0m\u001b[0mroot\u001b[0m\u001b[1;33m=\u001b[0m\u001b[0mConfig\u001b[0m\u001b[1;33m.\u001b[0m\u001b[0mtesting_dir\u001b[0m\u001b[1;33m)\u001b[0m\u001b[1;33m\u001b[0m\u001b[0m\n\u001b[0m\u001b[0;32m      2\u001b[0m siamese_dataset = SiameseNetworkDataset(imageFolderDataset=folder_dataset_test,\n\u001b[0;32m      3\u001b[0m                                         transform=transforms.Compose([transforms.Scale((100,100)),\n\u001b[0;32m      4\u001b[0m                                                                       \u001b[0mtransforms\u001b[0m\u001b[1;33m.\u001b[0m\u001b[0mToTensor\u001b[0m\u001b[1;33m(\u001b[0m\u001b[1;33m)\u001b[0m\u001b[1;33m\u001b[0m\u001b[0m\n\u001b[0;32m      5\u001b[0m                                                                       ])\n",
      "\u001b[1;31mNameError\u001b[0m: name 'dset' is not defined"
     ]
    }
   ],
   "source": [
    "folder_dataset_test = dset.ImageFolder(root=Config.testing_dir)\n",
    "siamese_dataset = SiameseNetworkDataset(imageFolderDataset=folder_dataset_test,\n",
    "                                        transform=transforms.Compose([transforms.Scale((100,100)),\n",
    "                                                                      transforms.ToTensor()\n",
    "                                                                      ])\n",
    "                                       ,should_invert=False)\n",
    "\n",
    "test_dataloader = DataLoader(siamese_dataset,num_workers=6,batch_size=1,shuffle=True)\n",
    "dataiter = iter(test_dataloader)\n",
    "x0,_,_ = next(dataiter)\n",
    "\n",
    "for i in range(10):\n",
    "    _,x1,label2 = next(dataiter)\n",
    "    concatenated = torch.cat((x0,x1),0)\n",
    "    \n",
    "    output1,output2 = net(Variable(x0).cuda(),Variable(x1).cuda())\n",
    "    euclidean_distance = F.pairwise_distance(output1, output2)\n",
    "    vis.images(concatenated,win = 'show')\n",
    "#    imshow(torchvision.utils.make_grid(concatenated),'Dissimilarity: {:.2f}'.format(euclidean_distance.cpu().data.numpy()[0][0]))\n",
    "\n"
   ]
  },
  {
   "cell_type": "code",
   "execution_count": null,
   "metadata": {
    "collapsed": true
   },
   "outputs": [],
   "source": []
  }
 ],
 "metadata": {
  "hide_input": false,
  "kernelspec": {
   "display_name": "Python 3",
   "language": "python",
   "name": "python3"
  },
  "language_info": {
   "codemirror_mode": {
    "name": "ipython",
    "version": 3
   },
   "file_extension": ".py",
   "mimetype": "text/x-python",
   "name": "python",
   "nbconvert_exporter": "python",
   "pygments_lexer": "ipython3",
   "version": "3.5.4"
  }
 },
 "nbformat": 4,
 "nbformat_minor": 2
}
