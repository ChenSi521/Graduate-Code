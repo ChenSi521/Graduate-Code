{
 "cells": [
  {
   "cell_type": "code",
   "execution_count": 7,
   "metadata": {},
   "outputs": [
    {
     "data": {
      "text/plain": [
       "'cos(x)'"
      ]
     },
     "execution_count": 7,
     "metadata": {},
     "output_type": "execute_result"
    }
   ],
   "source": [
    "import visdom\n",
    "import torch as t\n",
    "\n",
    "vis = visdom.Visdom(env = u'test1')\n",
    "\n",
    "x = t.arange(1,30,0.01)\n",
    "y = t.cos(x)\n",
    "\n",
    "vis.line(X = x, Y = y, win = 'cos(x)',opts= {'title': 'y=cos(x)','xlabel':'x','ylabel':'y'})\n"
   ]
  },
  {
   "cell_type": "code",
   "execution_count": 4,
   "metadata": {},
   "outputs": [],
   "source": [
    "import visdom\n",
    "import torch as t\n",
    "\n",
    "vis = visdom.Visdom(env = u'test1')\n",
    "for ii in range(0,10):\n",
    "    x = t.Tensor([ii])\n",
    "    y = x\n",
    "    vis.line(X=x,Y=y,win='polynomial',update ='append' if ii>0 else None )"
   ]
  },
  {
   "cell_type": "code",
   "execution_count": 2,
   "metadata": {},
   "outputs": [],
   "source": [
    "vis.save??"
   ]
  }
 ],
 "metadata": {
  "kernelspec": {
   "display_name": "Python 3",
   "language": "python",
   "name": "python3"
  },
  "language_info": {
   "codemirror_mode": {
    "name": "ipython",
    "version": 3
   },
   "file_extension": ".py",
   "mimetype": "text/x-python",
   "name": "python",
   "nbconvert_exporter": "python",
   "pygments_lexer": "ipython3",
   "version": "3.5.4"
  }
 },
 "nbformat": 4,
 "nbformat_minor": 2
}
