{
 "cells": [
  {
   "cell_type": "code",
   "execution_count": 1,
   "metadata": {},
   "outputs": [],
   "source": [
    "import torch as t\n",
    "from torch import nn,optim\n",
    "from torch.autograd import Variable\n",
    "from torch.utils.data import DataLoader\n",
    "from torchvision import datasets, transforms\n",
    "import numpy as np\n",
    "from torch.utils import data\n",
    "import os\n",
    "import shutil\n",
    "\n",
    "import visdom\n",
    "\n",
    "input_dim = 10\n",
    "n_hidden_1 = 32\n",
    "n_hidden_2 = 16\n",
    "\n",
    "n_hidden_3 = 8\n",
    "\n",
    "output_dim = 2\n",
    "\n",
    "\n",
    "vis = visdom.Visdom(env = u'face_angle')"
   ]
  },
  {
   "cell_type": "code",
   "execution_count": 2,
   "metadata": {},
   "outputs": [],
   "source": [
    "#网络model\n",
    "class Batch_Net1(nn.Module):\n",
    "    def __init__(self,input_dim,n_hidden_1,n_hidden_2,n_hidden_3,output_dim):\n",
    "        super().__init__()\n",
    "        self.layer1 = nn.Sequential(\n",
    "                                    nn.Linear(input_dim,n_hidden_1),\n",
    "                                    nn.BatchNorm1d(n_hidden_1),\n",
    "                                    nn.ReLU(True)\n",
    "                                    )\n",
    "        self.layer2 = nn.Sequential(\n",
    "                                    nn.Linear(n_hidden_1,n_hidden_2),\n",
    "                                    nn.BatchNorm1d(n_hidden_2),\n",
    "                                    nn.ReLU(True)\n",
    "                                    )\n",
    "        self.layer3 = nn.Sequential(\n",
    "                                    nn.Linear(n_hidden_2,n_hidden_3),\n",
    "                                    nn.BatchNorm1d(n_hidden_3),\n",
    "                                    nn.ReLU(True)\n",
    "                                    )\n",
    "        self.layer_out = nn.Sequential(\n",
    "                                    nn.Linear(n_hidden_3,output_dim),\n",
    "                                    #nn.BatchNorm1d(output_dim),\n",
    "                                    #nn.ReLU(True)\n",
    "                                       )\n",
    "        #self.softmax = nn.Softmax()\n",
    " \n",
    "        \n",
    "        #x = self.layer4(x)      #想去掉某层，在这里就足够了。\n",
    "        '''\n",
    "        x1 = self.layer_out1(x)\n",
    "        x2 = self.layer_out2(x)\n",
    "        x = t.cat((x1,x2),1)           #这3行，即使和之前output_dim = 2效果是一样的，但是，说明可以使用cat。哈哈哈哈！\n",
    "      \n",
    "        x_out1 = self.layer_out1(x31)\n",
    "        x_out2 = self.layer_out2(x32)\n",
    "        x = t.cat((x_out1,x_out2),1)\n",
    "        '''\n",
    "    def forward(self,x):\n",
    "        #print(\"x.shape\",x.shape)\n",
    "        x = self.layer1(x)\n",
    "        #print(\"x.shape1\",x.shape)\n",
    "        x = self.layer2(x)\n",
    "        x = self.layer3(x)\n",
    "        x = self.layer_out(x)\n",
    "        #x = self.softmax(x)\n",
    "        #print(x)\n",
    "        return x"
   ]
  },
  {
   "cell_type": "code",
   "execution_count": 3,
   "metadata": {},
   "outputs": [],
   "source": [
    "#dataset类\n",
    "from torch.utils import data\n",
    "import os\n",
    "import numpy as np\n",
    "\n",
    "\n",
    "class Feature_Points(data.Dataset):\n",
    "    def __init__(self,root):\n",
    "        all_folds = os.listdir(root)\n",
    "        folds = [os.path.join(root,img) for img in all_folds]\n",
    "        self.all_files = []\n",
    "        for path in folds:\n",
    "            one_files = os.listdir(path)\n",
    "            files = [os.path.join(path,img) for img in one_files]\n",
    "            self.all_files.extend(files) \n",
    "         \n",
    "        \n",
    "    def __getitem__(self,index):\n",
    "        txt_path = self.all_files[index]\n",
    "        label = 1 if 'front_face' in txt_path.split(\"\\\\\")[-2] else 0\n",
    "        fo = open(txt_path)\n",
    "        data_str = fo.read()\n",
    "        array = np.array(data_str.split(\",\")).astype(float)\n",
    "        fo.close()\n",
    "        data = t.from_numpy(array)\n",
    "        \n",
    "        return data, label\n",
    "    \n",
    "    def __len__(self):\n",
    "        return len(self.all_files)        \n",
    "  "
   ]
  },
  {
   "cell_type": "code",
   "execution_count": 3,
   "metadata": {},
   "outputs": [],
   "source": [
    "model = Batch_Net1(input_dim,n_hidden_1,n_hidden_2,n_hidden_3,output_dim)"
   ]
  },
  {
   "cell_type": "code",
   "execution_count": 4,
   "metadata": {},
   "outputs": [],
   "source": [
    "model.load_state_dict(t.load(\"C:\\\\Users\\\\SiChen\\\\face_sys\\\\FC_network\\\\model_save\\\\fc_network_800_32_16_NoSoftmax_lr1e-4.pth\"))"
   ]
  },
  {
   "cell_type": "code",
   "execution_count": 12,
   "metadata": {},
   "outputs": [
    {
     "name": "stdout",
     "output_type": "stream",
     "text": [
      "img_folder文件夹存在\n",
      "txt_folder文件夹存在\n",
      "goal_front_face_folder文件夹存在\n",
      "goal_side_face_folder文件夹存在\n"
     ]
    }
   ],
   "source": [
    "\n",
    "img_folder = \"E:\\\\D_Continue\\\\newfolder601\\\\zhangwei\"\n",
    "txt_folder = \"E:\\\\D_Continue\\\\newfolder202\"\n",
    "goal_front_face_folder = \"E:\\\\D_Continue\\\\newfolder902\\\\clear_front_face\"\n",
    "goal_side_face_folder = \"E:\\\\D_Continue\\\\newfolder902\\\\clear_side_face\"\n",
    "\n",
    "\n",
    "if os.path.exists(img_folder):\n",
    "    print(\"img_folder文件夹存在\")\n",
    "else:\n",
    "    print(\"img_folder文件夹不存在\")\n",
    "if os.path.exists(txt_folder):\n",
    "    print(\"txt_folder文件夹存在\")\n",
    "else:\n",
    "    print(\"txt_folder文件夹不存在\")\n",
    "if os.path.exists(goal_front_face_folder):\n",
    "    print(\"goal_front_face_folder文件夹存在\")\n",
    "else:\n",
    "    print(\"goal_front_face_folder文件夹不存在\")\n",
    "if os.path.exists(goal_side_face_folder):\n",
    "    print(\"goal_side_face_folder文件夹存在\")\n",
    "else:\n",
    "    print(\"goal_side_face_folder文件夹不存在\")\n",
    "\n",
    "\n",
    "model.cuda()\n",
    "model.eval()\n",
    "\n",
    "all_imgs = os.listdir(img_folder)\n",
    "#all_imgs_path = [os.path.join(root,img) for img in all_folds]\n",
    "\n",
    "for imgs_name in all_imgs:\n",
    "    name = imgs_name.split(\".\")[0]\n",
    "    txt_path = txt_folder+\"\\\\\"+name+\".txt\"\n",
    "    img_path = img_folder+\"\\\\\"+imgs_name\n",
    "    fo = open(txt_path)\n",
    "    data_str = fo.read()\n",
    "    array = np.array(data_str.split(\",\")).astype(float)\n",
    "    fo.close()\n",
    "    data_tensor = t.from_numpy(array)\n",
    "    data_tensor = data_tensor.unsqueeze(0)                   #这行比较重要！！！！！！！！！！！！！！ \n",
    "    data_variable = Variable(data_tensor.float(),volatile=True).cuda()\n",
    "    out = model(data_variable)\n",
    "    _,pred = t.max(out.cpu(),1)\n",
    "    \n",
    "    if pred.data[0]==1:                                    #1表示正面人脸，0表示侧面人脸。\n",
    "        shutil.copy(img_path,goal_front_face_folder)\n",
    "    else:\n",
    "        shutil.copy(img_path,goal_side_face_folder)"
   ]
  },
  {
   "cell_type": "code",
   "execution_count": 4,
   "metadata": {},
   "outputs": [
    {
     "data": {
      "text/plain": [
       "'picture_10022_'"
      ]
     },
     "execution_count": 4,
     "metadata": {},
     "output_type": "execute_result"
    }
   ],
   "source": [
    "import os\n",
    "img_folder = \"D:\\\\newfolder41_120_clear\\\\clear_face\"\n",
    "all_imgs = os.listdir(img_folder)\n",
    "all_imgs[9].split(\".\")[0]"
   ]
  }
 ],
 "metadata": {
  "kernelspec": {
   "display_name": "Python 3",
   "language": "python",
   "name": "python3"
  },
  "language_info": {
   "codemirror_mode": {
    "name": "ipython",
    "version": 3
   },
   "file_extension": ".py",
   "mimetype": "text/x-python",
   "name": "python",
   "nbconvert_exporter": "python",
   "pygments_lexer": "ipython3",
   "version": "3.5.4"
  }
 },
 "nbformat": 4,
 "nbformat_minor": 2
}
