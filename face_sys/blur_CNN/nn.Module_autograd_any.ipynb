{
 "cells": [
  {
   "cell_type": "code",
   "execution_count": 26,
   "metadata": {},
   "outputs": [],
   "source": [
    "import torch as t\n",
    "from torch import nn\n",
    "from torch.autograd import Variable as V\n",
    "from torch.autograd import function as F\n",
    "\n",
    "#nn.Conv2d\n",
    "#nn.Parameter"
   ]
  },
  {
   "cell_type": "code",
   "execution_count": null,
   "metadata": {},
   "outputs": [],
   "source": [
    "class my_need_func(nn.Module):\n",
    "    def __init__(self,input0,output0):\n",
    "        super().__init__()\n",
    "        self.w\n",
    "        "
   ]
  },
  {
   "cell_type": "code",
   "execution_count": 16,
   "metadata": {},
   "outputs": [
    {
     "data": {
      "text/plain": [
       "Conv2d (1, 1, kernel_size=(3, 3), stride=(1, 1))"
      ]
     },
     "execution_count": 16,
     "metadata": {},
     "output_type": "execute_result"
    }
   ],
   "source": [
    "#这个方法可以直接修改卷积层，池化层的权值，我就可以用来造一个高斯算子了。\n",
    "kernel = t.ones(3,3)\n",
    "kernel[1][1] = 1\n",
    "conv = nn.Conv2d(1,1,(3,3),1)\n",
    "conv.weight.data = kernel.view(1,1,3,3)\n",
    "conv.weight\n",
    "conv"
   ]
  },
  {
   "cell_type": "code",
   "execution_count": 34,
   "metadata": {},
   "outputs": [
    {
     "data": {
      "text/plain": [
       "[]"
      ]
     },
     "execution_count": 34,
     "metadata": {},
     "output_type": "execute_result"
    }
   ],
   "source": [
    "from torch.nn import functional as F\n",
    "\n",
    "avgpool = nn.AvgPool2d(3,1,(3,3),1)\n",
    "list(avgpool.parameters())     #P109\n",
    "#F.avg_pool2d??"
   ]
  }
 ],
 "metadata": {
  "kernelspec": {
   "display_name": "Python 3",
   "language": "python",
   "name": "python3"
  },
  "language_info": {
   "codemirror_mode": {
    "name": "ipython",
    "version": 3
   },
   "file_extension": ".py",
   "mimetype": "text/x-python",
   "name": "python",
   "nbconvert_exporter": "python",
   "pygments_lexer": "ipython3",
   "version": "3.5.4"
  }
 },
 "nbformat": 4,
 "nbformat_minor": 2
}
