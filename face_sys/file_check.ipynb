{
 "cells": [
  {
   "cell_type": "code",
   "execution_count": 2,
   "metadata": {},
   "outputs": [
    {
     "name": "stdout",
     "output_type": "stream",
     "text": [
      "目录非空\n"
     ]
    }
   ],
   "source": [
    "#https://zhidao.baidu.com/question/1175363097282897619.html\n",
    "import os\n",
    "\n",
    "work_path = \"C:\\\\Users\\\\SiChen\\\\Desktop\\\\newfolder4\"\n",
    "if not os.listdir(work_path):\n",
    "    print(\"目录为空\")\n",
    "else:\n",
    "    print(\"目录非空\")"
   ]
  },
  {
   "cell_type": "code",
   "execution_count": 2,
   "metadata": {},
   "outputs": [
    {
     "name": "stdout",
     "output_type": "stream",
     "text": [
      "文件夹存在\n"
     ]
    }
   ],
   "source": [
    "#https://www.cnblogs.com/jhao/p/7243043.html\n",
    "import os\n",
    "\n",
    "work_path = \"C:\\\\Users\\\\SiChen\\\\Desktop\\\\newfolder4\"\n",
    "\n",
    "if os.path.exists(work_path):\n",
    "    print(\"文件夹存在\")\n",
    "else:\n",
    "    print(\"文件夹不存在\")"
   ]
  },
  {
   "cell_type": "code",
   "execution_count": 7,
   "metadata": {},
   "outputs": [
    {
     "name": "stdout",
     "output_type": "stream",
     "text": [
      "目录非空\n"
     ]
    },
    {
     "data": {
      "text/plain": [
       "25"
      ]
     },
     "execution_count": 7,
     "metadata": {},
     "output_type": "execute_result"
    }
   ],
   "source": [
    "import os\n",
    "\n",
    "work_path = \"C:\\\\Users\\\\SiChen\\\\Desktop\\\\newfolder4\"\n",
    "if not os.listdir(work_path):\n",
    "    print(\"目录为空\")\n",
    "else:\n",
    "    print(\"目录非空\")\n",
    "#print(os.listdir(work_path))  #这是个列表,而且顺序是1,10,11，。。，19,2,20，。。，29，。。\n",
    "len(os.listdir(work_path))  #文件假中图片的个数\n",
    "#所以直接使用0开头来命名获得的图片比较好，因为可以直接range(len(os.listdir(work_path)))"
   ]
  },
  {
   "cell_type": "markdown",
   "metadata": {},
   "source": [
    "# 下面把文件读取功能和相似性判断模块结合起来"
   ]
  },
  {
   "cell_type": "code",
   "execution_count": 9,
   "metadata": {},
   "outputs": [
    {
     "name": "stdout",
     "output_type": "stream",
     "text": [
      "C:\\Users\\SiChen\\Desktop\\newfolder4\\opencv1.png\n",
      "1 0\n",
      "C:\\Users\\SiChen\\Desktop\\newfolder4\\opencv2.png\n",
      "2 7769\n",
      "C:\\Users\\SiChen\\Desktop\\newfolder4\\opencv3.png\n",
      "3 16285\n",
      "C:\\Users\\SiChen\\Desktop\\newfolder4\\opencv4.png\n",
      "4 15004\n",
      "C:\\Users\\SiChen\\Desktop\\newfolder4\\opencv5.png\n",
      "5 16109\n",
      "C:\\Users\\SiChen\\Desktop\\newfolder4\\opencv6.png\n",
      "6 15206\n",
      "C:\\Users\\SiChen\\Desktop\\newfolder4\\opencv7.png\n",
      "7 15308\n",
      "C:\\Users\\SiChen\\Desktop\\newfolder4\\opencv8.png\n",
      "8 12747\n",
      "C:\\Users\\SiChen\\Desktop\\newfolder4\\opencv9.png\n",
      "9 17732\n",
      "C:\\Users\\SiChen\\Desktop\\newfolder4\\opencv10.png\n",
      "10 41244\n",
      "C:\\Users\\SiChen\\Desktop\\newfolder4\\opencv11.png\n",
      "11 33724\n",
      "C:\\Users\\SiChen\\Desktop\\newfolder4\\opencv12.png\n",
      "12 23505\n",
      "C:\\Users\\SiChen\\Desktop\\newfolder4\\opencv13.png\n",
      "13 28513\n",
      "C:\\Users\\SiChen\\Desktop\\newfolder4\\opencv14.png\n",
      "14 25496\n",
      "C:\\Users\\SiChen\\Desktop\\newfolder4\\opencv15.png\n",
      "15 13287\n",
      "C:\\Users\\SiChen\\Desktop\\newfolder4\\opencv16.png\n",
      "16 51752\n",
      "C:\\Users\\SiChen\\Desktop\\newfolder4\\opencv17.png\n",
      "17 16003\n",
      "C:\\Users\\SiChen\\Desktop\\newfolder4\\opencv18.png\n",
      "18 36675\n",
      "C:\\Users\\SiChen\\Desktop\\newfolder4\\opencv19.png\n",
      "19 35532\n",
      "C:\\Users\\SiChen\\Desktop\\newfolder4\\opencv20.png\n",
      "20 37366\n",
      "C:\\Users\\SiChen\\Desktop\\newfolder4\\opencv21.png\n",
      "21 16567\n",
      "C:\\Users\\SiChen\\Desktop\\newfolder4\\opencv22.png\n",
      "22 21997\n",
      "C:\\Users\\SiChen\\Desktop\\newfolder4\\opencv23.png\n",
      "23 29193\n",
      "C:\\Users\\SiChen\\Desktop\\newfolder4\\opencv24.png\n",
      "24 35092\n",
      "C:\\Users\\SiChen\\Desktop\\newfolder4\\opencv25.png\n",
      "25 29045\n"
     ]
    }
   ],
   "source": [
    "import cv2\n",
    "import os\n",
    "\n",
    "work_path = \"C:\\\\Users\\\\SiChen\\\\Desktop\\\\newfolder4\\\\\"\n",
    "if not os.listdir(work_path):\n",
    "    print(\"目录为空\")\n",
    "else:\n",
    "    for i in range(1,len(os.listdir(work_path))+1):\n",
    "        name = work_path + \"opencv\"+str(i)+\".png\"\n",
    "        print(name)\n",
    "        img_bgr1 = cv2.imread(name,0)\n",
    "        if i == 1:\n",
    "            img_bgr0 = img_bgr1\n",
    "\n",
    "        frame = cv2.absdiff(img_bgr1,img_bgr0)\n",
    "        img_bgr0 = img_bgr1\n",
    "        frame = (frame > 50)\n",
    "        print(i,frame.cumsum().max())"
   ]
  },
  {
   "cell_type": "markdown",
   "metadata": {},
   "source": [
    "# 下面写一个，每隔固定时间换一个文件夹"
   ]
  },
  {
   "cell_type": "code",
   "execution_count": 14,
   "metadata": {},
   "outputs": [
    {
     "name": "stdout",
     "output_type": "stream",
     "text": [
      "目录非空\n"
     ]
    }
   ],
   "source": [
    "import os\n",
    "\n",
    "work_path = \"C:\\\\Users\\\\SiChen\\\\Desktop\\\\newfolder4\"\n",
    "work_path1 = \"C:\\\\Users\\\\SiChen\\\\Desktop\\\\newfolder5\"\n",
    "if not os.listdir(work_path):\n",
    "    print(\"目录为空\")\n",
    "else:\n",
    "    print(\"目录非空\")\n",
    "\n",
    "\n",
    "def process1():\n",
    "    j = 0\n",
    "    while j < 20:\n",
    "        print(j)\n",
    "        j = j + 1\n",
    "    process2()\n",
    "                      \n",
    "def process2():\n",
    "    i = 0\n",
    "    while i < 20:        \n",
    "        print(i)\n",
    "        i = i + 1\n",
    "    process1()\n",
    "\n",
    "#process1()    "
   ]
  },
  {
   "cell_type": "code",
   "execution_count": 25,
   "metadata": {
    "scrolled": true
   },
   "outputs": [
    {
     "name": "stdout",
     "output_type": "stream",
     "text": [
      "成功打开了摄像头\n"
     ]
    }
   ],
   "source": [
    "import cv2\n",
    "\n",
    "def cap_check_save():\n",
    "    work_path = \"C:\\\\Users\\\\SiChen\\\\Desktop\\\\newfolder6\\\\\"\n",
    "    cap = cv2.VideoCapture(0)\n",
    "    if not cap.isOpened() :\n",
    "        print(\"摄像头未成功打开\")\n",
    "    else:\n",
    "        print(\"成功打开了摄像头\")\n",
    "\n",
    "    cap.set(3,1920) \n",
    "    cap.set(4,1080)\n",
    "    cap.set(11,25)\n",
    "    cap.set(15,-6.0)\n",
    "\n",
    "    i=0\n",
    "    j=0\n",
    "    image0 = []\n",
    "    while 1: \n",
    "        ret,image1 = cap.read()  #不能直接读取为灰度图像，以为我后面还要进行人脸识别呢\n",
    "        if not ret:\n",
    "            break\n",
    "        cv2.imshow(\"Origin\", image1)\n",
    "        i=i+1\n",
    "\n",
    "        if i%3 == 0: \n",
    "            #print(not image0)    #打印了一下not image0,发现一直是True，这就有问题了。\n",
    "            if not len(image0) :\n",
    "                image0 = image1\n",
    "                img_gray0 = cv2.cvtColor(image0,cv2.COLOR_BGR2GRAY)\n",
    "            #print(image0)        \n",
    "            img_gray1 = cv2.cvtColor(image1,cv2.COLOR_BGR2GRAY)\n",
    "            frame = cv2.absdiff(img_gray1,img_gray0)\n",
    "            img_gray0 = img_gray1\n",
    "            frame = (frame > 40)\n",
    "            #print(frame.cumsum().max())\n",
    "            if frame.cumsum().max() >= 20000:\n",
    "                cv2.imwrite(work_path + 'opencv'+str(j)+'.png',image1)\n",
    "                j=j+1\n",
    "\n",
    "            if cv2.waitKey(25)&0xFF == ord('q'):\n",
    "                break\n",
    "            i = 0\n",
    "    cap.release()\n",
    "    cv2.destroyAllWindows()\n",
    "\n",
    "cap_check_save()\n",
    "\n"
   ]
  },
  {
   "cell_type": "markdown",
   "metadata": {},
   "source": [
    "# 下面这个是每输出50张图片就换一个文件夹，还不是每隔固定时间换个文件夹"
   ]
  },
  {
   "cell_type": "code",
   "execution_count": 26,
   "metadata": {},
   "outputs": [
    {
     "name": "stdout",
     "output_type": "stream",
     "text": [
      "成功打开了摄像头\n"
     ]
    }
   ],
   "source": [
    "import cv2\n",
    "\n",
    "work_path0 = \"C:\\\\Users\\\\SiChen\\\\Desktop\\\\newfolder6\\\\\"\n",
    "work_path1 = \"C:\\\\Users\\\\SiChen\\\\Desktop\\\\newfolder5\\\\\"\n",
    "cap = cv2.VideoCapture(0)\n",
    "if not cap.isOpened() :\n",
    "    print(\"摄像头未成功打开\")\n",
    "else:\n",
    "    print(\"成功打开了摄像头\")\n",
    "    \n",
    "cap.set(3,1920) \n",
    "cap.set(4,1080)\n",
    "cap.set(11,25)\n",
    "cap.set(15,-6.0)\n",
    "\n",
    "i=0\n",
    "j=0\n",
    "image0 = []\n",
    "while 1: \n",
    "    ret,image1 = cap.read()  #不能直接读取为灰度图像，以为我后面还要进行人脸识别呢\n",
    "    if not ret:\n",
    "        break\n",
    "    cv2.imshow(\"Origin\", image1)\n",
    "    i=i+1\n",
    "\n",
    "    if i%5 == 0: \n",
    "        #print(not image0)    #打印了一下not image0,发现一直是True，这就有问题了。\n",
    "        if not len(image0) :\n",
    "            image0 = image1\n",
    "            img_gray0 = cv2.cvtColor(image0,cv2.COLOR_BGR2GRAY)\n",
    "        #print(image0)        \n",
    "        img_gray1 = cv2.cvtColor(image1,cv2.COLOR_BGR2GRAY)\n",
    "        frame = cv2.absdiff(img_gray1,img_gray0)\n",
    "        img_gray0 = img_gray1\n",
    "        frame = (frame > 30)\n",
    "        #print(frame.cumsum().max())\n",
    "        if frame.cumsum().max() >= 25000:\n",
    "            if j < 50:\n",
    "                cv2.imwrite(work_path0 + 'opencv'+str(j)+'.png',image1)\n",
    "            else:\n",
    "                cv2.imwrite(work_path1 + 'opencv'+str(j)+'.png',image1)\n",
    "            if not j%100: \n",
    "                j = 0 \n",
    "            j=j+1\n",
    "        \n",
    "        if cv2.waitKey(25)&0xFF == ord('q'):\n",
    "            break\n",
    "        i = 0\n",
    "        \n",
    "cap.release()\n",
    "cv2.destroyAllWindows()"
   ]
  },
  {
   "cell_type": "code",
   "execution_count": null,
   "metadata": {},
   "outputs": [],
   "source": [
    "import cv2\n",
    "\n",
    "work_path0 = \"C:\\\\Users\\\\SiChen\\\\Desktop\\\\newfolder6\\\\\"\n",
    "work_path1 = \"C:\\\\Users\\\\SiChen\\\\Desktop\\\\newfolder5\\\\\"\n",
    "cap = cv2.VideoCapture(0)\n",
    "if not cap.isOpened() :\n",
    "    print(\"摄像头未成功打开\")\n",
    "else:\n",
    "    print(\"成功打开了摄像头\")\n",
    "    \n",
    "cap.set(3,1920) \n",
    "cap.set(4,1080)\n",
    "cap.set(11,25)\n",
    "cap.set(15,-6.0)\n",
    "\n",
    "i=0\n",
    "j=0\n",
    "image0 = []\n",
    "while 1: \n",
    "    ret,image1 = cap.read()  #不能直接读取为灰度图像，以为我后面还要进行人脸识别呢\n",
    "    if not ret:\n",
    "        break\n",
    "    cv2.imshow(\"Origin\", image1)\n",
    "    i=i+1\n",
    "\n",
    "    if i%5 == 0: \n",
    "        #print(not image0)    #打印了一下not image0,发现一直是True，这就有问题了。\n",
    "        if not len(image0) :\n",
    "            image0 = image1\n",
    "            img_gray0 = cv2.cvtColor(image0,cv2.COLOR_BGR2GRAY)\n",
    "        #print(image0)        \n",
    "        img_gray1 = cv2.cvtColor(image1,cv2.COLOR_BGR2GRAY)\n",
    "        frame = cv2.absdiff(img_gray1,img_gray0)\n",
    "        img_gray0 = img_gray1\n",
    "        frame = (frame > 30)\n",
    "        #print(frame.cumsum().max())\n",
    "        if frame.cumsum().max() >= 25000:\n",
    "            if j < 50:\n",
    "                cv2.imwrite(work_path0 + 'opencv'+str(j)+'.png',image1)\n",
    "            else:\n",
    "                cv2.imwrite(work_path1 + 'opencv'+str(j)+'.png',image1)\n",
    "            if not j%100: \n",
    "                j = 0 \n",
    "            j=j+1\n",
    "        \n",
    "        if cv2.waitKey(25)&0xFF == ord('q'):\n",
    "            break\n",
    "        i = 0\n",
    "        \n",
    "cap.release()\n",
    "cv2.destroyAllWindows()"
   ]
  },
  {
   "cell_type": "code",
   "execution_count": 75,
   "metadata": {},
   "outputs": [],
   "source": [
    "#只能用多线程了，然后在另一个线程里，用sleep定时10分钟。\n",
    "\n",
    "import time\n",
    "\n",
    "time1 = time.localtime(time.time())\n",
    "i = 0\n",
    "#while 1:   #当time_sec ==10的瞬间，这个循环就有成千上万次，所以是不可行的\n",
    "    \n",
    "if not time1.tm_sec%10:\n",
    "        i = i + 1\n",
    "        print(i)\n",
    "time1 = time.localtime(time.time())"
   ]
  },
  {
   "cell_type": "markdown",
   "metadata": {},
   "source": [
    "# 经过各种尝试，各种套用别人的代码，终于找到下面一个，可以在多线程中共享变量i的方法"
   ]
  },
  {
   "cell_type": "code",
   "execution_count": 7,
   "metadata": {},
   "outputs": [
    {
     "name": "stdout",
     "output_type": "stream",
     "text": [
      "the curent threading  MainThread is running\n",
      "jjjj\n",
      "1\n",
      "the curent threading  Thread-9 is runningiiii\n",
      "1\n",
      "\n",
      "the curent threading  Thread-9 is ended\n",
      "hhhh\n",
      "0\n",
      "the curent threading  MainThread is ended\n"
     ]
    }
   ],
   "source": [
    "import threading\n",
    "import time\n",
    "\n",
    "i = 1\n",
    "def target():\n",
    "    print ('the curent threading  %s is running' % threading.current_thread().name)\n",
    "\n",
    "#    while 1:\n",
    "#        i = 0\n",
    "#        time.sleep(10)\n",
    "#        i = 1 \n",
    "#        time.sleep(10)\n",
    "\n",
    "    global i\n",
    "    i = 0\n",
    "    time.sleep(1)\n",
    "    print ('the curent threading  %s is ended' % threading.current_thread().name)\n",
    "\n",
    "print('the curent threading  %s is running' % threading.current_thread().name)\n",
    "t = threading.Thread(target=target)\n",
    "print(\"jjjj\")\n",
    "print(i) \n",
    "t.start()\n",
    "print(\"iiii\")\n",
    "print(i)\n",
    "t.join()\n",
    "print(\"hhhh\")\n",
    "print(i)\n",
    "\n",
    "print ('the curent threading  %s is ended' % threading.current_thread().name)"
   ]
  },
  {
   "cell_type": "code",
   "execution_count": 16,
   "metadata": {
    "scrolled": true
   },
   "outputs": [
    {
     "name": "stdout",
     "output_type": "stream",
     "text": [
      "the curent threading  MainThread is running\n",
      "jjjj\n",
      "1\n",
      "the curent threading  Thread-18 is runningiiii\n",
      "\n",
      "2\n",
      "hhhh\n",
      "4\n",
      "3\n",
      "the curent threading  MainThread is ended\n",
      "the curent threading  Thread-18 is ended\n"
     ]
    }
   ],
   "source": [
    "import threading\n",
    "import time\n",
    "\n",
    "i = 1\n",
    "j = 1\n",
    "def target():\n",
    "    print ('the curent threading  %s is running' % threading.current_thread().name)\n",
    "    global i\n",
    "    global j\n",
    "    while i < 10:\n",
    "        i = i+1\n",
    "        time.sleep(1)\n",
    "        j = j + 1 \n",
    "        time.sleep(1)\n",
    "\n",
    "#    global i\n",
    "#    i = 0\n",
    "#    time.sleep(1)\n",
    "    print ('the curent threading  %s is ended' % threading.current_thread().name)\n",
    "\n",
    "print('the curent threading  %s is running' % threading.current_thread().name)\n",
    "t = threading.Thread(target=target)\n",
    "print(\"jjjj\")\n",
    "print(i) \n",
    "\n",
    "#t.setDaemon(True)   #加上这句，在主线程结束的时候，会自动杀死子线程，如果在join()中加入一个数字，那么子线程会做短暂延迟后再被杀死\n",
    "t.start()\n",
    "print(\"iiii\")\n",
    "print(i)\n",
    "t.join(5)\n",
    "print(\"hhhh\")\n",
    "print(i)\n",
    "print(j)\n",
    "\n",
    "print ('the curent threading  %s is ended' % threading.current_thread().name)"
   ]
  },
  {
   "cell_type": "markdown",
   "metadata": {},
   "source": [
    "# 在这个里面加入多线程定时"
   ]
  },
  {
   "cell_type": "code",
   "execution_count": 4,
   "metadata": {},
   "outputs": [
    {
     "name": "stdout",
     "output_type": "stream",
     "text": [
      "the curent threading  MainThread is running\n",
      "the curent threading  Thread-9 is running\n",
      "成功打开了摄像头\n",
      "the curent threading  MainThread is ended\n"
     ]
    }
   ],
   "source": [
    "import cv2\n",
    "import threading\n",
    "import time\n",
    "\n",
    "print('the curent threading  %s is running' % threading.current_thread().name)\n",
    "global_i = 1\n",
    "\n",
    "def target():\n",
    "    print ('the curent threading  %s is running' % threading.current_thread().name)\n",
    "    global global_i\n",
    "    global global_j\n",
    "    while 1:\n",
    "        global_i = 0\n",
    "        time.sleep(5)\n",
    "        global_i = 1 \n",
    "        time.sleep(5)\n",
    "    print ('the curent threading  %s is ended' % threading.current_thread().name)\n",
    "\n",
    "t = threading.Thread(target=target)\n",
    "t.setDaemon(True)\n",
    "t.start()\n",
    "\n",
    "        \n",
    "work_path0 = \"C:\\\\Users\\\\SiChen\\\\Desktop\\\\newfolder6\\\\\"\n",
    "work_path1 = \"C:\\\\Users\\\\SiChen\\\\Desktop\\\\newfolder5\\\\\"\n",
    "cap = cv2.VideoCapture(0)\n",
    "if not cap.isOpened() :\n",
    "    print(\"摄像头未成功打开\")\n",
    "else:\n",
    "    print(\"成功打开了摄像头\")\n",
    "    \n",
    "cap.set(3,1920) \n",
    "cap.set(4,1080)\n",
    "cap.set(11,25)\n",
    "cap.set(15,-6.0)\n",
    "\n",
    "i=0\n",
    "j=0\n",
    "image0 = []\n",
    "while 1: \n",
    "    ret,image1 = cap.read()  #不能直接读取为灰度图像，以为我后面还要进行人脸识别呢\n",
    "    if not ret:\n",
    "        break\n",
    "    cv2.imshow(\"Origin\", image1)\n",
    "    i=i+1\n",
    "\n",
    "    if i%5 == 0: \n",
    "        #print(not image0)    #打印了一下not image0,发现一直是True，这就有问题了。\n",
    "        if not len(image0) :\n",
    "            image0 = image1\n",
    "            img_gray0 = cv2.cvtColor(image0,cv2.COLOR_BGR2GRAY)\n",
    "        #print(image0)        \n",
    "        img_gray1 = cv2.cvtColor(image1,cv2.COLOR_BGR2GRAY)\n",
    "        frame = cv2.absdiff(img_gray1,img_gray0)\n",
    "        img_gray0 = img_gray1\n",
    "        frame = (frame > 30)\n",
    "        #print(frame.cumsum().max())\n",
    "        if frame.cumsum().max() >= 25000:\n",
    "            if global_i :\n",
    "                cv2.imwrite(work_path0 + 'opencv'+str(j)+'.png',image1)\n",
    "            else:\n",
    "                cv2.imwrite(work_path1 + 'opencv'+str(j)+'.png',image1)\n",
    "            if not j%100: \n",
    "                j = 0 \n",
    "            j=j+1\n",
    "        \n",
    "        if cv2.waitKey(25)&0xFF == ord('q'):\n",
    "            break\n",
    "        i = 0\n",
    "        \n",
    "cap.release()\n",
    "cv2.destroyAllWindows()\n",
    "#t.join(20)\n",
    "print ('the curent threading  %s is ended' % threading.current_thread().name) #没有输出the curent threading  Thread-6 is ended \n",
    "#因为不加t.join()主线程会立即杀死子线程。如果加上后，就会一直等待子线程结束，我用的死循环，就会陷入里面出不来"
   ]
  }
 ],
 "metadata": {
  "kernelspec": {
   "display_name": "Python 3",
   "language": "python",
   "name": "python3"
  },
  "language_info": {
   "codemirror_mode": {
    "name": "ipython",
    "version": 3
   },
   "file_extension": ".py",
   "mimetype": "text/x-python",
   "name": "python",
   "nbconvert_exporter": "python",
   "pygments_lexer": "ipython3",
   "version": "3.5.4"
  }
 },
 "nbformat": 4,
 "nbformat_minor": 2
}
