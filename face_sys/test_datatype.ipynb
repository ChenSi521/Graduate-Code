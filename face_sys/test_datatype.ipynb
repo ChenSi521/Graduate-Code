{
 "cells": [
  {
   "cell_type": "code",
   "execution_count": 14,
   "metadata": {},
   "outputs": [
    {
     "name": "stdout",
     "output_type": "stream",
     "text": [
      "[1, 1, 2]\n",
      "(1, 2, 3)\n",
      "[1 1 2]\n",
      "\n",
      " 1\n",
      " 1\n",
      "[torch.FloatTensor of size 2]\n",
      "\n",
      "Variable containing:\n",
      " 1\n",
      " 1\n",
      "[torch.FloatTensor of size 2]\n",
      "\n",
      "{'1': 1, '2': 2, '3': 3}\n"
     ]
    },
    {
     "data": {
      "text/plain": [
       "array([1, 1, 2])"
      ]
     },
     "execution_count": 14,
     "metadata": {},
     "output_type": "execute_result"
    }
   ],
   "source": [
    "import numpy as np\n",
    "import torch as t\n",
    "from torch.autograd import Variable\n",
    "a = [1,1,2]\n",
    "print(a)\n",
    "b = (1,2,3)\n",
    "print(b)\n",
    "c = np.array(a)\n",
    "print(c)\n",
    "print(t.Tensor([1,1]))\n",
    "print(Variable(t.Tensor([1,1])))\n",
    "d = {\"1\":1,\"2\":2,\"3\":3}\n",
    "print(d)\n",
    "c"
   ]
  }
 ],
 "metadata": {
  "kernelspec": {
   "display_name": "Python 3",
   "language": "python",
   "name": "python3"
  },
  "language_info": {
   "codemirror_mode": {
    "name": "ipython",
    "version": 3
   },
   "file_extension": ".py",
   "mimetype": "text/x-python",
   "name": "python",
   "nbconvert_exporter": "python",
   "pygments_lexer": "ipython3",
   "version": "3.5.4"
  }
 },
 "nbformat": 4,
 "nbformat_minor": 2
}
