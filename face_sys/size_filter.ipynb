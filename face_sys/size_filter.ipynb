{
 "cells": [
  {
   "cell_type": "code",
   "execution_count": 63,
   "metadata": {},
   "outputs": [
    {
     "name": "stdout",
     "output_type": "stream",
     "text": [
      "read文件夹存在\n",
      "save文件夹存在\n",
      "<class 'int'>\n",
      "pic_number =  723\n"
     ]
    }
   ],
   "source": [
    "#先写核心的，把一张图片过滤掉\n",
    "from PIL import Image\n",
    "import os\n",
    "\n",
    "import numpy as np\n",
    "import cv2\n",
    "import matplotlib.pyplot as plt\n",
    "\n",
    "#work_path_read = \"D:\\\\newfolder0\\\\\"\n",
    "#work_path_read = \"C:\\\\Users\\\\SiChen\\\\Desktop\\\\newfolder4\"\n",
    "folder_name = [\"lvziqiao\",\"chenmeijia\",\"guangushenqi\",\"huyifei\",\"qinyumo\",\n",
    "        \"tangyouyou\",\"zengxiaoxian\",\"zhangwei\",\"others\"]\n",
    "\n",
    "work_path_read = \"E:\\\\D_Continue\\\\newfolder2701\\\\\"+ folder_name[7]\n",
    "#work_path_save = \"D:\\\\newfolder1\\\\\"\n",
    "work_path_save = \"E:\\\\D_Continue\\\\newfolder2701_160\\\\\"+ folder_name[7]\n",
    "#work_path_save1 = \"D:\\\\newfolder23_51\\\\fuzzy_face\"\n",
    "if os.path.exists(work_path_read):\n",
    "    print(\"read文件夹存在\")\n",
    "else:\n",
    "    print(\"read文件夹不存在\")\n",
    "    \n",
    "if os.path.exists(work_path_save):\n",
    "    print(\"save文件夹存在\")\n",
    "else:\n",
    "    print(\"save文件夹不存在\")\n",
    "\n",
    "pic_number = len(os.listdir(work_path_read))\n",
    "print(type(pic_number))\n",
    "print(\"pic_number = \",pic_number)"
   ]
  },
  {
   "cell_type": "code",
   "execution_count": 64,
   "metadata": {},
   "outputs": [],
   "source": [
    "#尺寸过滤和模糊程度过滤放在一起\n",
    "#pic_number1 = pic_number\n",
    "pic_number1 = 20000\n",
    "pic_number = 20000\n",
    "#j = 0\n",
    "''\n",
    "        \n",
    "kernel1 = np.array([-1.0,1.0])\n",
    "kernel2 = np.array([1.0,-1.0])\n",
    "kernel3 = np.array([[-1.0,0.0],[0.0,1.0]])\n",
    "kernel4 = np.array([[0.0,-1.0],[1.0,0.0]])\n",
    "kernel5 = np.array([[0.0,1.0],[-1.0,0.0]])\n",
    "kernel6 = np.array([[1.0,0.0],[0.0,-1.0]])\n",
    "kernel7 = np.array([[-1.0],[1.0]])\n",
    "kernel8 = np.array([[1.0],[-1.0]])\n",
    "kernel_2 = np.array([[1/9,1/9,1/9],[1/9,1/9,1/9],[1/9,1/9,1/9]])\n",
    "\n",
    "\n",
    "while pic_number:  #25到1，不包括0\n",
    "    #pic_number = pic_number - 1\n",
    "    #print(pic_number)\n",
    "    #image = Image.open(work_path_read + \"\\\\picture_\"+ str(pic_number1-pic_number) +\"_.png\")\n",
    "    image0 = cv2.imread(work_path_read+ \"\\\\\"+\"picture_\"+ str(pic_number1-pic_number) +\"_.png\")\n",
    "    #print(pic_number1-pic_number)\n",
    "    #image0.size\n",
    "    #print(image0.size)   #Image打开的图像，没有.shape这个属性，但是有.size这个属性\n",
    "    if image0 is None:        #有些  (pic_number1-pic_number)  数字不存在\n",
    "        pic_number = pic_number - 1    #不加这一行，就会出现无限循环。\n",
    "        continue\n",
    "    \n",
    "    if image0.shape[0] > 35 and image0.shape[1] > 35 :\n",
    "        '''\n",
    "        image = cv2.cvtColor(image0, cv2.COLOR_BGR2RGB)\n",
    "        image = cv2.resize(image, (160, 160), interpolation=cv2.INTER_AREA)\n",
    "       \n",
    "        image_gaussion = cv2.filter2D(image,cv2.CV_16S,kernel_2)\n",
    "\n",
    "        image_grad1 = cv2.filter2D(image_gaussion,cv2.CV_16S,kernel1)\n",
    "        image_grad2 = cv2.filter2D(image_gaussion,cv2.CV_16S,kernel2)\n",
    "        image_grad3 = cv2.filter2D(image_gaussion,cv2.CV_16S,kernel3)\n",
    "        image_grad4 = cv2.filter2D(image_gaussion,cv2.CV_16S,kernel4)\n",
    "        image_grad5 = cv2.filter2D(image_gaussion,cv2.CV_16S,kernel5)\n",
    "        image_grad6 = cv2.filter2D(image_gaussion,cv2.CV_16S,kernel6)\n",
    "        image_grad7 = cv2.filter2D(image_gaussion,cv2.CV_16S,kernel7)\n",
    "        image_grad8 = cv2.filter2D(image_gaussion,cv2.CV_16S,kernel8)\n",
    "        \n",
    "        image1 = np.maximum(np.maximum(np.maximum(np.maximum(np.maximum(np.maximum(np.maximum(image_grad1,\n",
    "                                                                                      image_grad2),image_grad3),image_grad4),image_grad5),image_grad6),image_grad7),image_grad8)- \\\n",
    "                                                                                    np.minimum(np.minimum(np.minimum(np.minimum(np.minimum(np.minimum(np.minimum(image_grad1,\n",
    "                                                                                      image_grad2),image_grad3),image_grad4),image_grad5),image_grad6),image_grad7),image_grad8)\n",
    "\n",
    "        if image1.var() > 100:\n",
    "            #image.save(work_path_save + '\\\\picture_'+str(pic_number1-pic_number)+'.png')\n",
    "        '''\n",
    "        \n",
    "        image1 = cv2.resize(image0, (160, 160), interpolation=cv2.INTER_LINEAR)\n",
    "        cv2.imwrite(work_path_save + \"\\\\\"+\"picture_\"+str(pic_number1-pic_number)+\"_.png\",image1)\n",
    "        #j = j + 1\n",
    "        \n",
    "    pic_number = pic_number - 1\n",
    "    \n",
    "\n"
   ]
  },
  {
   "cell_type": "code",
   "execution_count": 10,
   "metadata": {},
   "outputs": [],
   "source": [
    "#依次读取每张图片的尺寸\n",
    "pic_number1 = pic_number\n",
    "face_num = 0    #文件夹中全部的人脸数目\n",
    "while pic_number:  #25到1，不包括0\n",
    "    pic_number = pic_number - 1\n",
    "    #print(pic_number)\n",
    "    image = Image.open(work_path + \"\\\\\" + \"opencv\"+ str(pic_number1-pic_number) +\".png\")\n",
    "    #print(image.size)   #Image打开的图像，没有.shape这个属性，但是有.size这个属性\n",
    "    \n",
    "    "
   ]
  },
  {
   "cell_type": "code",
   "execution_count": 7,
   "metadata": {},
   "outputs": [],
   "source": [
    "#依次读取每张图片的尺寸,并过滤；速度比较慢的，说明图片的读取和写入时比较费时的。\n",
    "#运行这段代码必须先运行第一个cell\n",
    "#pic_number1 = pic_number\n",
    "pic_number1 = 15354\n",
    "pic_number = 299\n",
    "#j = 0\n",
    "while pic_number:  #25到1，不包括0\n",
    "    #pic_number = pic_number - 1\n",
    "    #print(pic_number)\n",
    "    image = Image.open(work_path_read + \"\\\\picture_\"+ str(pic_number1-pic_number) +\"_.png\")\n",
    "   \n",
    "    #print(image.size)   #Image打开的图像，没有.shape这个属性，但是有.size这个属性\n",
    "    if image.size[0] > 50 and image.size[1] > 60 :\n",
    "        image.save(work_path_save + '\\\\picture_'+str(pic_number1-pic_number)+'_.png')\n",
    "        #j = j + 1\n",
    "    \n",
    "    pic_number = pic_number - 1\n",
    "    \n"
   ]
  },
  {
   "cell_type": "code",
   "execution_count": 28,
   "metadata": {},
   "outputs": [],
   "source": [
    "len(os.listdir(\"D:\\\\newfolder4\"))\n",
    "###os.remove(\"D:\\\\newfolder19_120\")   #极度危险的命令\n"
   ]
  },
  {
   "cell_type": "code",
   "execution_count": 15,
   "metadata": {},
   "outputs": [
    {
     "data": {
      "image/png": "[encoded data removed]",
      "text/plain": [
       "<Figure size 432x288 with 4 Axes>"
      ]
     },
     "metadata": {},
     "output_type": "display_data"
    }
   ],
   "source": [
    "img_name = \"E:\\\\D_Continue\\\\newfolder204\\\\show_img\\\\guangu.png\"\n",
    "img_name1 = \"E:\\\\D_Continue\\\\newfolder204\\\\show_img_60\\\\guangu.png\"\n",
    "image = cv2.imread(img_name)\n",
    "#image = cv2.cvtColor(image, cv2.COLOR_BGR2RGB)\n",
    "image = cv2.resize(image, (60, 60), interpolation=cv2.INTER_LINEAR)\n",
    "cv2.imwrite(img_name1,image)\n",
    "\n",
    "image = cv2.cvtColor(image, cv2.COLOR_BGR2RGB)\n",
    "plt.subplot(141)  \n",
    "plt.imshow(image)  \n",
    "plt.axis(\"off\")  \n",
    "\n",
    "plt.subplot(142)  \n",
    "plt.imshow(image)  \n",
    "plt.axis(\"off\")\n",
    "\n",
    "plt.subplot(143)  \n",
    "plt.imshow(image)  \n",
    "plt.axis(\"off\")\n",
    "\n",
    "plt.subplot(144)  \n",
    "plt.imshow(image)  \n",
    "plt.axis(\"off\")\n",
    "\n",
    "plt.show() \n"
   ]
  }
 ],
 "metadata": {
  "kernelspec": {
   "display_name": "Python 3",
   "language": "python",
   "name": "python3"
  },
  "language_info": {
   "codemirror_mode": {
    "name": "ipython",
    "version": 3
   },
   "file_extension": ".py",
   "mimetype": "text/x-python",
   "name": "python",
   "nbconvert_exporter": "python",
   "pygments_lexer": "ipython3",
   "version": "3.5.4"
  }
 },
 "nbformat": 4,
 "nbformat_minor": 2
}
