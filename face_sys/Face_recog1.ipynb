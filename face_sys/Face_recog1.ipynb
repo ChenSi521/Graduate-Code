{
 "cells": [
  {
   "cell_type": "code",
   "execution_count": 1,
   "metadata": {},
   "outputs": [],
   "source": [
    "%matplotlib inline\n",
    "import torchvision\n",
    "import torchvision.datasets as dset\n",
    "import torchvision.transforms as transforms\n",
    "from torch.utils.data import DataLoader,Dataset\n",
    "import matplotlib.pyplot as plt\n",
    "import torchvision.utils\n",
    "import numpy as np\n",
    "import random\n",
    "from PIL import Image\n",
    "import torch\n",
    "from torch.autograd import Variable\n",
    "import PIL.ImageOps    \n",
    "import torch.nn as nn\n",
    "from torch import optim\n",
    "import torch.nn.functional as F\n",
    "\n",
    "import visdom\n",
    "#!tree   C:\\Users\\SiChen\\Desktop\\AndrewNg\\ORL\\orl_faces /A /f"
   ]
  },
  {
   "cell_type": "code",
   "execution_count": 2,
   "metadata": {},
   "outputs": [],
   "source": [
    "def imshow(img,text,should_save=False):\n",
    "    npimg = img.numpy()\n",
    "    plt.axis(\"off\")\n",
    "    if text:\n",
    "        plt.text(75, 8, text, style='italic',fontweight='bold',\n",
    "            bbox={'facecolor':'white', 'alpha':0.8, 'pad':10})\n",
    "    plt.imshow(np.transpose(npimg, (1, 2, 0)))\n",
    "    plt.show()    \n",
    "\n",
    "def show_plot(iteration,loss):\n",
    "    plt.plot(iteration,loss)\n",
    "    plt.show()\n"
   ]
  },
  {
   "cell_type": "code",
   "execution_count": 3,
   "metadata": {},
   "outputs": [],
   "source": [
    "#这个配置方式真的很不错。\n",
    "class Config():\n",
    "    training_dir = 'E:\\ORL\\orl_faces'\n",
    "    testing_dir = 'E:\\ORL\\orl_faces'\n",
    "    train_batch_size = 64\n",
    "    train_number_epochs = 100"
   ]
  },
  {
   "cell_type": "code",
   "execution_count": 4,
   "metadata": {},
   "outputs": [],
   "source": [
    "class SiameseNetworkDataset(Dataset):\n",
    "    \n",
    "    def __init__(self,imageFolderDataset,transform=None,should_invert=True):\n",
    "        self.imageFolderDataset = imageFolderDataset    \n",
    "        self.transform = transform\n",
    "        self.should_invert = should_invert\n",
    "        \n",
    "    def __getitem__(self,index):\n",
    "        #http://blog.csdn.net/u013066730/article/details/59546677\n",
    "        img0_tuple = random.choice(self.imageFolderDataset.imgs)  #看书本P141  dataset.imgs 输出的内容，就好理解了。是一个由元组构成的一维数组。\n",
    "        #we need to make sure approx 50% of images are in the same class\n",
    "        should_get_same_class = random.randint(0,1) \n",
    "        if should_get_same_class:\n",
    "            while True:\n",
    "                #keep looping till the same class image is found\n",
    "                img1_tuple = random.choice(self.imageFolderDataset.imgs) \n",
    "                if img0_tuple[1]==img1_tuple[1]:\n",
    "                    break\n",
    "        else:\n",
    "            img1_tuple = random.choice(self.imageFolderDataset.imgs)\n",
    "\n",
    "        img0 = Image.open(img0_tuple[0])\n",
    "        img1 = Image.open(img1_tuple[0])\n",
    "        img0 = img0.convert(\"L\")\n",
    "        img1 = img1.convert(\"L\")\n",
    "        \n",
    "        if self.should_invert:\n",
    "            img0 = PIL.ImageOps.invert(img0)\n",
    "            img1 = PIL.ImageOps.invert(img1)\n",
    "\n",
    "        if self.transform is not None:\n",
    "            img0 = self.transform(img0)\n",
    "            img1 = self.transform(img1)\n",
    "        \n",
    "        return img0, img1 , torch.from_numpy(np.array([int(img1_tuple[1]!=img0_tuple[1])],dtype=np.float32))\n",
    "    \n",
    "    def __len__(self):\n",
    "        return len(self.imageFolderDataset.imgs)"
   ]
  },
  {
   "cell_type": "code",
   "execution_count": 5,
   "metadata": {},
   "outputs": [
    {
     "data": {
      "text/plain": [
       "{'s1': 0,\n",
       " 's10': 1,\n",
       " 's11': 2,\n",
       " 's12': 3,\n",
       " 's13': 4,\n",
       " 's14': 5,\n",
       " 's15': 6,\n",
       " 's16': 7,\n",
       " 's17': 8,\n",
       " 's18': 9,\n",
       " 's19': 10,\n",
       " 's2': 11,\n",
       " 's20': 12,\n",
       " 's21': 13,\n",
       " 's22': 14,\n",
       " 's23': 15,\n",
       " 's24': 16,\n",
       " 's25': 17,\n",
       " 's26': 18,\n",
       " 's27': 19,\n",
       " 's28': 20,\n",
       " 's29': 21,\n",
       " 's3': 22,\n",
       " 's30': 23,\n",
       " 's31': 24,\n",
       " 's32': 25,\n",
       " 's33': 26,\n",
       " 's34': 27,\n",
       " 's35': 28,\n",
       " 's36': 29,\n",
       " 's37': 30,\n",
       " 's38': 31,\n",
       " 's39': 32,\n",
       " 's4': 33,\n",
       " 's40': 34,\n",
       " 's5': 35,\n",
       " 's6': 36,\n",
       " 's7': 37,\n",
       " 's8': 38,\n",
       " 's9': 39}"
      ]
     },
     "execution_count": 5,
     "metadata": {},
     "output_type": "execute_result"
    }
   ],
   "source": [
    "folder_dataset = dset.ImageFolder(root=Config.training_dir)\n",
    "folder_dataset.class_to_idx"
   ]
  },
  {
   "cell_type": "code",
   "execution_count": 6,
   "metadata": {},
   "outputs": [],
   "source": [
    "#可以对ImageFolder得到的数据集再进行一次处理，这是一个新的知识点。\n",
    "siamese_dataset = SiameseNetworkDataset(imageFolderDataset=folder_dataset,\n",
    "                                        transform=transforms.Compose([transforms.Resize((100,100)),\n",
    "                                                                      transforms.ToTensor()\n",
    "                                                                      ]),\n",
    "                                       should_invert=False)"
   ]
  },
  {
   "cell_type": "code",
   "execution_count": 7,
   "metadata": {},
   "outputs": [
    {
     "data": {
      "image/png": "[encoded data removed]",
      "text/plain": [
       "<Figure size 432x288 with 1 Axes>"
      ]
     },
     "metadata": {},
     "output_type": "display_data"
    },
    {
     "name": "stdout",
     "output_type": "stream",
     "text": [
      "[[1.]\n",
      " [0.]\n",
      " [1.]\n",
      " [0.]\n",
      " [1.]\n",
      " [0.]\n",
      " [0.]\n",
      " [0.]]\n"
     ]
    }
   ],
   "source": [
    "vis_dataloader = DataLoader(siamese_dataset,\n",
    "                        num_workers=0,\n",
    "                        batch_size=8,\n",
    "                        shuffle=True,)#我认为是这样的，每次去Siamese_dataset中提取8组数据，在提取每一组的时候，\n",
    "#都会调用一次其__getitem__()函数，总共调用8次。而每一次调用都很明显会调用__getitem__()里面的 img0_tuple = random.choice(self.imageFolderDataset.imgs)\n",
    "#这里的random.choice()又是从folder_dataset中随机选择一张图片作为一组图片中的第一张图片。所以batch_size = 8中的8组图片的第一张可能是同一个人的。\n",
    "#但是siamese_dataset与folder_dataset的元素的个数是相同的,我已经做过试验了，例如本程序的训练过程，训练集总共有400个图片，每个batch_size =64，所以我输出\n",
    "#之后的结果为，一个epoch有7个batch，前6个batch有64组图片，最后一个batch有16组图片，总共还是400组。\n",
    "dataiter = iter(vis_dataloader)\n",
    "\n",
    "example_batch = next(dataiter)\n",
    "concatenated = torch.cat((example_batch[0],example_batch[1]),0)\n",
    "imshow(torchvision.utils.make_grid(concatenated), ' ')\n",
    "print(example_batch[2].numpy())"
   ]
  },
  {
   "cell_type": "code",
   "execution_count": 8,
   "metadata": {},
   "outputs": [
    {
     "data": {
      "text/plain": [
       "<torch.utils.data.dataloader.DataLoader at 0xdbda7eb70>"
      ]
     },
     "execution_count": 8,
     "metadata": {},
     "output_type": "execute_result"
    }
   ],
   "source": [
    "vis_dataloader"
   ]
  },
  {
   "cell_type": "code",
   "execution_count": 9,
   "metadata": {},
   "outputs": [],
   "source": [
    "class SiameseNetwork(nn.Module):\n",
    "    def __init__(self):\n",
    "        super(SiameseNetwork, self).__init__()\n",
    "        self.cnn1= nn.Sequential(\n",
    "            nn.ReflectionPad2d(1),\n",
    "            nn.Conv2d(1,4,kernel_size=3),\n",
    "            nn.ReLU(inplace=True),\n",
    "            nn.BatchNorm2d(4),\n",
    "            nn.Dropout2d(p=.2),\n",
    "\n",
    "            nn.ReflectionPad2d(1),\n",
    "            nn.Conv2d(4, 8, kernel_size=3),\n",
    "            nn.ReLU(inplace=True),\n",
    "            nn.BatchNorm2d(8),\n",
    "            nn.Dropout2d(p=.2),\n",
    "\n",
    "            nn.ReflectionPad2d(1),\n",
    "            nn.Conv2d(8, 8, kernel_size=3),\n",
    "            nn.ReLU(inplace=True),\n",
    "            nn.BatchNorm2d(8),\n",
    "            nn.Dropout2d(p=.2)\n",
    "        )\n",
    "\n",
    "        self.fc1= nn.Sequential(\n",
    "            nn.Linear(8*100*100,500),\n",
    "            nn.ReLU(inplace=True),\n",
    "            #nn.Dropout(p=0.5),\n",
    "\n",
    "            nn.Linear(500,500),\n",
    "            nn.ReLU(inplace= True),\n",
    "            #nn.Dropout(0.5),\n",
    "\n",
    "            nn.Linear(500,5)\n",
    "        )\n",
    "    def forward_once(self, x):\n",
    "        output = self.cnn1(x)\n",
    "        # print(output)\n",
    "        output = output.view(output.size()[0], -1)\n",
    "        output = self.fc1(output)\n",
    "        return output\n",
    "\n",
    "    def forward(self, input1, input2):\n",
    "        output1 = self.forward_once(input1)\n",
    "        output2 = self.forward_once(input2)\n",
    "        return output1, output2"
   ]
  },
  {
   "cell_type": "code",
   "execution_count": 10,
   "metadata": {},
   "outputs": [],
   "source": [
    "class ContrastiveLoss(nn.Module):\n",
    "\n",
    "    def __init__(self, margin=2.0):\n",
    "        super(ContrastiveLoss,self).__init__()\n",
    "        self.margin= margin\n",
    "\n",
    "    def forward(self, output1, output2,label):\n",
    "        #http://pytorch-cn.readthedocs.io/zh/latest/package_references/functional/#distance-functions\n",
    "        euclidean_distance = F.pairwise_distance(output1, output2) \n",
    "\n",
    "        #http://blog.csdn.net/autocyz/article/details/53149760\n",
    "        loss_contrastive = torch.mean((1 - label) * torch.pow(euclidean_distance, 2) +\n",
    "                                  (label) * torch.pow(torch.clamp(self.margin - euclidean_distance, min=0.0), 2))\n",
    "\n",
    "        return loss_contrastive"
   ]
  },
  {
   "cell_type": "code",
   "execution_count": 11,
   "metadata": {},
   "outputs": [],
   "source": [
    "train_dataloader = DataLoader(siamese_dataset,\n",
    "                                  shuffle=True,\n",
    "                                  num_workers=0,\n",
    "                                  batch_size=Config.train_batch_size)"
   ]
  },
  {
   "cell_type": "code",
   "execution_count": 19,
   "metadata": {},
   "outputs": [],
   "source": [
    "net = SiameseNetwork().cuda()\n",
    "criterion = ContrastiveLoss()\n",
    "optimizer = optim.Adam(net.parameters(), lr=0.0005)\n",
    "\n",
    "# counter for ------\n",
    "counter = []\n",
    "loss_history = []\n",
    "iteration_number= 0\n",
    "#net.state_dict().keys()\n",
    "criterion\n",
    "ContrastiveLoss?\n"
   ]
  },
  {
   "cell_type": "code",
   "execution_count": 27,
   "metadata": {},
   "outputs": [
    {
     "name": "stdout",
     "output_type": "stream",
     "text": [
      "0 0 torch.Size([64, 1])\n",
      "0 1 torch.Size([64, 1])\n",
      "0 2 torch.Size([64, 1])\n",
      "0 3 torch.Size([64, 1])\n",
      "0 4 torch.Size([64, 1])\n",
      "0 5 torch.Size([64, 1])\n",
      "0 6 torch.Size([16, 1])\n",
      "1 0 torch.Size([64, 1])\n",
      "1 1 torch.Size([64, 1])\n",
      "1 2 torch.Size([64, 1])\n",
      "1 3 torch.Size([64, 1])\n",
      "1 4 torch.Size([64, 1])\n",
      "1 5 torch.Size([64, 1])\n",
      "1 6 torch.Size([16, 1])\n",
      "2 0 torch.Size([64, 1])\n",
      "2 1 torch.Size([64, 1])\n",
      "2 2 torch.Size([64, 1])\n",
      "2 3 torch.Size([64, 1])\n",
      "2 4 torch.Size([64, 1])\n",
      "2 5 torch.Size([64, 1])\n",
      "2 6 torch.Size([16, 1])\n",
      "3 0 torch.Size([64, 1])\n",
      "3 1 torch.Size([64, 1])\n",
      "3 2 torch.Size([64, 1])\n",
      "3 3 torch.Size([64, 1])\n",
      "3 4 torch.Size([64, 1])\n",
      "3 5 torch.Size([64, 1])\n",
      "3 6 torch.Size([16, 1])\n",
      "4 0 torch.Size([64, 1])\n",
      "4 1 torch.Size([64, 1])\n",
      "4 2 torch.Size([64, 1])\n",
      "4 3 torch.Size([64, 1])\n",
      "4 4 torch.Size([64, 1])\n",
      "4 5 torch.Size([64, 1])\n",
      "4 6 torch.Size([16, 1])\n",
      "5 0 torch.Size([64, 1])\n",
      "5 1 torch.Size([64, 1])\n",
      "5 2 torch.Size([64, 1])\n",
      "5 3 torch.Size([64, 1])\n",
      "5 4 torch.Size([64, 1])\n",
      "5 5 torch.Size([64, 1])\n",
      "5 6 torch.Size([16, 1])\n",
      "6 0 torch.Size([64, 1])\n",
      "6 1 torch.Size([64, 1])\n",
      "6 2 torch.Size([64, 1])\n",
      "6 3 torch.Size([64, 1])\n",
      "6 4 torch.Size([64, 1])\n",
      "6 5 torch.Size([64, 1])\n",
      "6 6 torch.Size([16, 1])\n",
      "7 0 torch.Size([64, 1])\n",
      "7 1 torch.Size([64, 1])\n",
      "7 2 torch.Size([64, 1])\n",
      "7 3 torch.Size([64, 1])\n",
      "7 4 torch.Size([64, 1])\n",
      "7 5 torch.Size([64, 1])\n"
     ]
    },
    {
     "ename": "KeyboardInterrupt",
     "evalue": "",
     "output_type": "error",
     "traceback": [
      "\u001b[1;31m---------------------------------------------------------------------------\u001b[0m",
      "\u001b[1;31mKeyboardInterrupt\u001b[0m                         Traceback (most recent call last)",
      "\u001b[1;32m<ipython-input-27-63986406a3c8>\u001b[0m in \u001b[0;36m<module>\u001b[1;34m()\u001b[0m\n\u001b[0;32m     11\u001b[0m         \u001b[0moptimizer\u001b[0m\u001b[1;33m.\u001b[0m\u001b[0mzero_grad\u001b[0m\u001b[1;33m(\u001b[0m\u001b[1;33m)\u001b[0m\u001b[1;33m\u001b[0m\u001b[0m\n\u001b[0;32m     12\u001b[0m         \u001b[0mloss_contrastive\u001b[0m \u001b[1;33m=\u001b[0m \u001b[0mcriterion\u001b[0m\u001b[1;33m(\u001b[0m\u001b[0moutput1\u001b[0m\u001b[1;33m,\u001b[0m \u001b[0moutput2\u001b[0m\u001b[1;33m,\u001b[0m \u001b[0mlabel\u001b[0m\u001b[1;33m)\u001b[0m\u001b[1;33m\u001b[0m\u001b[0m\n\u001b[1;32m---> 13\u001b[1;33m         \u001b[0mloss_contrastive\u001b[0m\u001b[1;33m.\u001b[0m\u001b[0mbackward\u001b[0m\u001b[1;33m(\u001b[0m\u001b[1;33m)\u001b[0m\u001b[1;33m\u001b[0m\u001b[0m\n\u001b[0m\u001b[0;32m     14\u001b[0m         \u001b[0moptimizer\u001b[0m\u001b[1;33m.\u001b[0m\u001b[0mstep\u001b[0m\u001b[1;33m(\u001b[0m\u001b[1;33m)\u001b[0m\u001b[1;33m\u001b[0m\u001b[0m\n\u001b[0;32m     15\u001b[0m         \u001b[0mprint\u001b[0m\u001b[1;33m(\u001b[0m\u001b[0mepoch\u001b[0m\u001b[1;33m,\u001b[0m\u001b[0mi\u001b[0m\u001b[1;33m,\u001b[0m\u001b[0mlabel\u001b[0m\u001b[1;33m.\u001b[0m\u001b[0msize\u001b[0m\u001b[1;33m(\u001b[0m\u001b[1;33m)\u001b[0m\u001b[1;33m)\u001b[0m\u001b[1;33m\u001b[0m\u001b[0m\n",
      "\u001b[1;32md:\\Anaconda3\\envs\\pytorch\\lib\\site-packages\\torch\\autograd\\variable.py\u001b[0m in \u001b[0;36mbackward\u001b[1;34m(self, gradient, retain_graph, create_graph, retain_variables)\u001b[0m\n\u001b[0;32m    165\u001b[0m                 \u001b[0mVariable\u001b[0m\u001b[1;33m.\u001b[0m\u001b[1;33m\u001b[0m\u001b[0m\n\u001b[0;32m    166\u001b[0m         \"\"\"\n\u001b[1;32m--> 167\u001b[1;33m         \u001b[0mtorch\u001b[0m\u001b[1;33m.\u001b[0m\u001b[0mautograd\u001b[0m\u001b[1;33m.\u001b[0m\u001b[0mbackward\u001b[0m\u001b[1;33m(\u001b[0m\u001b[0mself\u001b[0m\u001b[1;33m,\u001b[0m \u001b[0mgradient\u001b[0m\u001b[1;33m,\u001b[0m \u001b[0mretain_graph\u001b[0m\u001b[1;33m,\u001b[0m \u001b[0mcreate_graph\u001b[0m\u001b[1;33m,\u001b[0m \u001b[0mretain_variables\u001b[0m\u001b[1;33m)\u001b[0m\u001b[1;33m\u001b[0m\u001b[0m\n\u001b[0m\u001b[0;32m    168\u001b[0m \u001b[1;33m\u001b[0m\u001b[0m\n\u001b[0;32m    169\u001b[0m     \u001b[1;32mdef\u001b[0m \u001b[0mregister_hook\u001b[0m\u001b[1;33m(\u001b[0m\u001b[0mself\u001b[0m\u001b[1;33m,\u001b[0m \u001b[0mhook\u001b[0m\u001b[1;33m)\u001b[0m\u001b[1;33m:\u001b[0m\u001b[1;33m\u001b[0m\u001b[0m\n",
      "\u001b[1;32md:\\Anaconda3\\envs\\pytorch\\lib\\site-packages\\torch\\autograd\\__init__.py\u001b[0m in \u001b[0;36mbackward\u001b[1;34m(variables, grad_variables, retain_graph, create_graph, retain_variables)\u001b[0m\n\u001b[0;32m     97\u001b[0m \u001b[1;33m\u001b[0m\u001b[0m\n\u001b[0;32m     98\u001b[0m     Variable._execution_engine.run_backward(\n\u001b[1;32m---> 99\u001b[1;33m         variables, grad_variables, retain_graph)\n\u001b[0m\u001b[0;32m    100\u001b[0m \u001b[1;33m\u001b[0m\u001b[0m\n\u001b[0;32m    101\u001b[0m \u001b[1;33m\u001b[0m\u001b[0m\n",
      "\u001b[1;31mKeyboardInterrupt\u001b[0m: "
     ]
    }
   ],
   "source": [
    "vis = visdom.Visdom(env = u'test2')\n",
    "for epoch in range(0, Config.train_number_epochs):\n",
    "#for epoch in range(0, 3):\n",
    "    for i, data in enumerate(train_dataloader,0):\n",
    "        img0, img1, label= data\n",
    "        #print(img0.size())\n",
    "        img0, img1, label= Variable(img0).cuda(), Variable(img1).cuda(), Variable(label).cuda()\n",
    "        output1, output2 = net(img0, img1)\n",
    "        #print(output1.size())\n",
    "        #print(output2.size())\n",
    "        optimizer.zero_grad()\n",
    "        loss_contrastive = criterion(output1, output2, label)\n",
    "        loss_contrastive.backward()\n",
    "        optimizer.step()\n",
    "#        print(epoch,i,label.size())\n",
    "        \n",
    "#        if i % 10 == 0:\n",
    "#            print(\"Epoch number {}\\n Current loss {}\\n\".format(epoch, loss_contrastive.data[0]))\n",
    " #           iteration_number += 10\n",
    " #           counter.append(iteration_number)\n",
    " #           loss_history.append(loss_contrastive.data[0])\n",
    "            \n",
    " #   vis.line(X = torch.Tensor([epoch]), Y = loss_contrastive.data.cpu(), win = 'face_recognition',opts= {'title': 'face_recognition','xlabel':'x','ylabel':'y'},update ='append' if epoch>0 else None)\n",
    "#show_plot(counter, loss_history)"
   ]
  },
  {
   "cell_type": "code",
   "execution_count": 14,
   "metadata": {},
   "outputs": [],
   "source": [
    "vis1 = visdom.Visdom(env = u'test3')\n",
    "#vis2 = visdom.Visdom(env = u'test4')\n",
    "folder_dataset_test = dset.ImageFolder(root=Config.testing_dir)\n",
    "siamese_dataset = SiameseNetworkDataset(imageFolderDataset=folder_dataset_test,\n",
    "                                        transform=transforms.Compose([transforms.Resize((100,100)),\n",
    "                                                                      transforms.ToTensor()\n",
    "                                                                      ])\n",
    "                                       ,should_invert=False)\n",
    "\n",
    "test_dataloader = DataLoader(siamese_dataset,num_workers=0,batch_size=1,shuffle=True)\n",
    "dataiter = iter(test_dataloader)\n",
    "x0,_,_ = next(dataiter)\n",
    "\n",
    "for i in range(100):\n",
    "    x1,x2,label2 = next(dataiter)\n",
    "    concatenated = torch.cat((x0,x1),0)\n",
    "    \n",
    "    output1,output2 = net(Variable(x0).cuda(),Variable(x1).cuda())\n",
    "    euclidean_distance = F.pairwise_distance(output1, output2)\n",
    "    vis1.line(X = torch.Tensor([i]),Y = euclidean_distance.cpu().data[0],win = 'face_recognition1',update ='append' if i>0 else None)\n",
    "    vis1.images(concatenated, win = 'show'+ str(i), opts = {'title':str(i)+'-'+str(euclidean_distance.cpu().data)} )\n",
    "    #print(euclidean_distance.cpu().data)\n",
    "    \n",
    "#    imshow(torchvision.utils.make_grid(concatenated),'Dissimilarity: {:.2f}'.format(euclidean_distance.cpu().data.numpy()[0][0]))\n"
   ]
  }
 ],
 "metadata": {
  "kernelspec": {
   "display_name": "Python 3",
   "language": "python",
   "name": "python3"
  },
  "language_info": {
   "codemirror_mode": {
    "name": "ipython",
    "version": 3
   },
   "file_extension": ".py",
   "mimetype": "text/x-python",
   "name": "python",
   "nbconvert_exporter": "python",
   "pygments_lexer": "ipython3",
   "version": "3.5.4"
  }
 },
 "nbformat": 4,
 "nbformat_minor": 2
}
