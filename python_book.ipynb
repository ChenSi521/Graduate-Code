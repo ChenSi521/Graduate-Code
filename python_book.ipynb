{
 "cells": [
  {
   "cell_type": "code",
   "execution_count": 10,
   "metadata": {
    "scrolled": true
   },
   "outputs": [
    {
     "name": "stdout",
     "output_type": "stream",
     "text": [
      "What language did you first learn to speak?\n",
      "Enter 'q' at any time to quit.\n",
      "\n",
      "Language:q\n",
      "\n",
      "Thank you to everyone who participated in the survey!\n",
      "Survey results:\n"
     ]
    }
   ],
   "source": [
    "class AnonymousSurvey():\n",
    "    def __init__(self,question):\n",
    "        \"\"\"存储一个问题，并为存储答案做准备\"\"\"\n",
    "        self.question = question\n",
    "        self.responses = []\n",
    "        \n",
    "    def show_question(self):\n",
    "        \"\"\"显示调查问卷\"\"\"\n",
    "        print(self.question)\n",
    "        \n",
    "    def store_response(self,new_response):\n",
    "        \"\"\"存储单份调查答卷\"\"\"\n",
    "        self.responses.append(new_response)\n",
    "        \n",
    "    def show_results(self):\n",
    "        \"\"\"显示收集到的所有答卷\"\"\"\n",
    "        print(\"Survey results:\")\n",
    "        for response in self.responses:\n",
    "            print('-'+ response)\n",
    "            \n",
    "#定义一个问题，并创建一个表示调查的AnonymousSurvey对象\n",
    "question = \"What language did you first learn to speak?\"\n",
    "my_survey = AnonymousSurvey(question)\n",
    "\n",
    "#显示问题并存储答案\n",
    "my_survey.show_question()\n",
    "print(\"Enter 'q' at any time to quit.\\n\")\n",
    "while True:\n",
    "    response = input(\"Language:\")\n",
    "    if response == 'q':\n",
    "        break\n",
    "    my_survey.store_response(response)\n",
    "#显示调查结果\n",
    "print(\"\\nThank you to everyone who participated in the survey!\")\n",
    "my_survey.show_results()\n"
   ]
  },
  {
   "cell_type": "code",
   "execution_count": 18,
   "metadata": {},
   "outputs": [
    {
     "name": "stderr",
     "output_type": "stream",
     "text": [
      "test_store_single_response (__main__.TestAnonymousSurvey)\n",
      "测试单个答案会被妥善地存储 ... ok\n",
      "\n",
      "----------------------------------------------------------------------\n",
      "Ran 1 test in 0.001s\n",
      "\n",
      "OK\n"
     ]
    }
   ],
   "source": [
    "import unittest\n",
    "class TestAnonymousSurvey(unittest.TestCase):\n",
    "    \"\"\"针对AnonymousSurvey类的测试\"\"\"\n",
    "    def test_store_single_response(self):\n",
    "        \"\"\"测试单个答案会被妥善地存储\"\"\"\n",
    "        question = \"What language did you first learn to speak?\"\n",
    "        my_survey = AnonymousSurvey(question)\n",
    "        my_survey .store_response('English')\n",
    "        self.assertIn('English',my_survey.responses)\n",
    "        \n",
    "if __name__ =='__main__':\n",
    "    unittest.main(argv=['ignored', '-v'], exit=False)"
   ]
  },
  {
   "cell_type": "code",
   "execution_count": 1,
   "metadata": {},
   "outputs": [
    {
     "name": "stdout",
     "output_type": "stream",
     "text": [
      "The Zen of Python, by Tim Peters\n",
      "\n",
      "Beautiful is better than ugly.\n",
      "Explicit is better than implicit.\n",
      "Simple is better than complex.\n",
      "Complex is better than complicated.\n",
      "Flat is better than nested.\n",
      "Sparse is better than dense.\n",
      "Readability counts.\n",
      "Special cases aren't special enough to break the rules.\n",
      "Although practicality beats purity.\n",
      "Errors should never pass silently.\n",
      "Unless explicitly silenced.\n",
      "In the face of ambiguity, refuse the temptation to guess.\n",
      "There should be one-- and preferably only one --obvious way to do it.\n",
      "Although that way may not be obvious at first unless you're Dutch.\n",
      "Now is better than never.\n",
      "Although never is often better than *right* now.\n",
      "If the implementation is hard to explain, it's a bad idea.\n",
      "If the implementation is easy to explain, it may be a good idea.\n",
      "Namespaces are one honking great idea -- let's do more of those!\n"
     ]
    }
   ],
   "source": [
    "import this"
   ]
  },
  {
   "cell_type": "code",
   "execution_count": 3,
   "metadata": {},
   "outputs": [
    {
     "data": {
      "text/plain": [
       "'3.5.4 |Anaconda, Inc.| (default, Nov  8 2017, 14:34:30) [MSC v.1900 64 bit (AMD64)]'"
      ]
     },
     "execution_count": 3,
     "metadata": {},
     "output_type": "execute_result"
    }
   ],
   "source": [
    "import sys\n",
    "sys.version"
   ]
  }
 ],
 "metadata": {
  "kernelspec": {
   "display_name": "Python 3",
   "language": "python",
   "name": "python3"
  },
  "language_info": {
   "codemirror_mode": {
    "name": "ipython",
    "version": 3
   },
   "file_extension": ".py",
   "mimetype": "text/x-python",
   "name": "python",
   "nbconvert_exporter": "python",
   "pygments_lexer": "ipython3",
   "version": "3.5.4"
  }
 },
 "nbformat": 4,
 "nbformat_minor": 2
}
