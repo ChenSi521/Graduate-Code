{
 "cells": [
  {
   "cell_type": "code",
   "execution_count": 3,
   "metadata": {},
   "outputs": [],
   "source": [
    "import torch as t\n",
    "from torch.utils import data\n",
    "import os\n",
    "import numpy as np\n",
    "\n",
    "\n",
    "class Feature_Points(data.Dataset):\n",
    "    def __init__(self,root):\n",
    "        all_folds = os.listdir(root)\n",
    "        folds = [os.path.join(\"E:\\\\dataset_test\",img) for img in all_folds]\n",
    "        self.all_files = []      #不加self就不会初始化，就会报错\n",
    "        for path in folds:\n",
    "            one_files = os.listdir(path)\n",
    "            files = [os.path.join(path,img) for img in one_files]\n",
    "            self.all_files.extend(files) \n",
    "          #此处的imgs可能是来自于父类的，所以我就没有改变\n",
    "        \n",
    "    def __getitem__(self,index):\n",
    "        txt_path = self.all_files[index]\n",
    "        label = 1 if 'front_face' in txt_path.split(\"\\\\\")[-2] else 0\n",
    "        fo = open(txt_path)\n",
    "        data_str = fo.read()\n",
    "        array = np.array(data_str.split(\",\")).astype(float)\n",
    "        fo.close()\n",
    "        data = t.from_numpy(array)\n",
    "        \n",
    "        return data, label\n",
    "    \n",
    "    def __len__(self):\n",
    "        return len(self.all_files)        \n",
    "    "
   ]
  },
  {
   "cell_type": "code",
   "execution_count": 4,
   "metadata": {
    "scrolled": true
   },
   "outputs": [
    {
     "name": "stdout",
     "output_type": "stream",
     "text": [
      "torch.Size([10]) 1\n",
      "torch.Size([10]) 1\n",
      "torch.Size([10]) 0\n",
      "torch.Size([10]) 0\n"
     ]
    }
   ],
   "source": [
    "#测试上面自己重写的dataset数据集加载类。成功！！！\n",
    "#然后我就可以把自己的文件输出为\"E:\\\\dataset_test\"中一样的格式。\n",
    "dataset = Feature_Points(\"E:\\\\dataset_test\")   \n",
    "data, label = dataset[0]\n",
    "for data,label in dataset:\n",
    "    print(data.size(),label)\n",
    "    #print(data,label)"
   ]
  },
  {
   "cell_type": "markdown",
   "metadata": {},
   "source": [
    "# 下面是做实验用的，都很有用，以后值得参考"
   ]
  },
  {
   "cell_type": "code",
   "execution_count": null,
   "metadata": {},
   "outputs": [],
   "source": [
    "#Pytorch黑皮书P137\n",
    "\n",
    "path = \"C:\\\\Users\\\\SiChen\\\\Desktop\\\\newfolder4\\\\opencv0.png\"\n",
    "print(path.split(\"\\\\\"))\n",
    "print(path.split(\"\\\\\")[-1])\n",
    "if 'Desktop' in path.split(\"\\\\\")[-3]:\n",
    "    print(\"Yes\")\n",
    "    "
   ]
  },
  {
   "cell_type": "code",
   "execution_count": 5,
   "metadata": {},
   "outputs": [
    {
     "name": "stdout",
     "output_type": "stream",
     "text": [
      "['E:\\\\dataset_test\\\\front_face\\\\face_feature.txt', 'E:\\\\dataset_test\\\\front_face\\\\face_feature1.txt', 'E:\\\\dataset_test\\\\side_face\\\\face_feature2.txt', 'E:\\\\dataset_test\\\\side_face\\\\face_feature3.txt']\n"
     ]
    }
   ],
   "source": [
    "#os.join()研究 \n",
    "import os\n",
    "#os.listdir(\"C:\\\\Users\\\\SiChen\\\\Desktop\\\\newfolder4\")\n",
    "all_folds = os.listdir(\"E:\\\\dataset_test\")\n",
    "folds = [os.path.join(\"E:\\\\dataset_test\",img) for img in all_folds]\n",
    "all_files = []\n",
    "for path in folds:\n",
    "    one_files = os.listdir(path)\n",
    "    files = [os.path.join(path,img) for img in one_files]\n",
    "    all_files.extend(files)               #这样就达到了和书本P137self.imgs那一行一样的效果。P137的文件名和我使用的不一样。\n",
    "    \n",
    "#all_txt_names = os.listdir(root)\n",
    "#self.imgs = [os.path.join(root,img) for img in all_txt_names]\n",
    "print(all_files)"
   ]
  },
  {
   "cell_type": "code",
   "execution_count": null,
   "metadata": {},
   "outputs": [],
   "source": [
    "#读取以string形式保存在txt中的数据，并将其转为float类型的numpy的array。\n",
    "fo = open(\"C:\\\\Users\\\\SiChen\\\\Desktop\\\\face_feature.txt\",\"r\")\n",
    "print(fo.name)   #说明文件打开成功\n",
    "\n",
    "str1 = fo.read()   #证明了，可以一下子读取文件中的所有内容\n",
    "print(str1)\n",
    "print(str1.split(\",\"))\n",
    "face_feature = np.array(str1.split(\",\"))\n",
    "print(face_feature.astype(float))\n",
    "face_feature = face_feature.astype(float)\n",
    "#print(float(str.split(\",\")))\n",
    "fo.close()\n",
    "#for i in range(face_feature.size):\n",
    "print(face_feature[1])"
   ]
  }
 ],
 "metadata": {
  "kernelspec": {
   "display_name": "Python 3",
   "language": "python",
   "name": "python3"
  },
  "language_info": {
   "codemirror_mode": {
    "name": "ipython",
    "version": 3
   },
   "file_extension": ".py",
   "mimetype": "text/x-python",
   "name": "python",
   "nbconvert_exporter": "python",
   "pygments_lexer": "ipython3",
   "version": "3.5.4"
  }
 },
 "nbformat": 4,
 "nbformat_minor": 2
}
