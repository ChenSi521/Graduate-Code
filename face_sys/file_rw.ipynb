{
 "cells": [
  {
   "cell_type": "code",
   "execution_count": null,
   "metadata": {},
   "outputs": [],
   "source": [
    "做个试验看看一个文件夹是否可以被同时读和写，但是不知道怎么做这个试验"
   ]
  },
  {
   "cell_type": "code",
   "execution_count": 1,
   "metadata": {},
   "outputs": [
    {
     "ename": "SyntaxError",
     "evalue": "invalid character in identifier (<ipython-input-1-f62f17a56c85>, line 1)",
     "output_type": "error",
     "traceback": [
      "\u001b[1;36m  File \u001b[1;32m\"<ipython-input-1-f62f17a56c85>\"\u001b[1;36m, line \u001b[1;32m1\u001b[0m\n\u001b[1;33m    我仔细想了一下，完全可以不用同时读写。\u001b[0m\n\u001b[1;37m                      ^\u001b[0m\n\u001b[1;31mSyntaxError\u001b[0m\u001b[1;31m:\u001b[0m invalid character in identifier\n"
     ]
    }
   ],
   "source": [
    "我仔细想了一下，完全可以不用同时读写。\n",
    "当我把图像采集、人脸检测和人脸识别同时执行的时候，只要有那个多线程就足够了\n",
    "只要保证控制信号为1的时候，图像采集写入的文件夹和人脸检测读取的文件夹错开就行了\n",
    "即：\n",
    "图像采集写入到  文件夹1  的时候，人脸检测模块读取  文件夹2 \n",
    "图像采集写入到  文件夹2  的时候，人脸检测模块读取  文件夹1\n",
    "\n",
    "人脸检测模块的写入和人脸识别模块的读取，同理\n",
    "即：\n",
    "人脸检测模块写入到 文件夹3 的时候，人脸识别模块读取 文件夹4\n",
    "人脸检测模块写入到 文件夹4 的时候，人脸识别模块读取 文件夹3\n",
    "\n",
    "其他都类似吧。\n",
    "\n",
    "在第一轮的时候有些文件夹可能是空的，这时候只要有判断文件夹是否为空的代码就足够了。\n",
    "++++++++++++++++++++++++++++++++++++++++++++++++++++++++++++++++++++++++++++++++++\n",
    "最大一个问题是，图像采集10分钟得到的图片，人脸检测模块能在10分钟内处理完吗？\n",
    "同样，人脸检测10分钟产生的模块，人脸识别模块能在10分钟内处理完吗？\n"
   ]
  }
 ],
 "metadata": {
  "kernelspec": {
   "display_name": "Python 3",
   "language": "python",
   "name": "python3"
  },
  "language_info": {
   "codemirror_mode": {
    "name": "ipython",
    "version": 3
   },
   "file_extension": ".py",
   "mimetype": "text/x-python",
   "name": "python",
   "nbconvert_exporter": "python",
   "pygments_lexer": "ipython3",
   "version": "3.5.4"
  }
 },
 "nbformat": 4,
 "nbformat_minor": 2
}
