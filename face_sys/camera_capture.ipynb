{
 "cells": [
  {
   "cell_type": "code",
   "execution_count": 1,
   "metadata": {},
   "outputs": [
    {
     "ename": "NameError",
     "evalue": "name 'cv' is not defined",
     "output_type": "error",
     "traceback": [
      "\u001b[1;31m---------------------------------------------------------------------------\u001b[0m",
      "\u001b[1;31mNameError\u001b[0m                                 Traceback (most recent call last)",
      "\u001b[1;32m<ipython-input-1-199aa5eda990>\u001b[0m in \u001b[0;36m<module>\u001b[1;34m()\u001b[0m\n\u001b[0;32m      2\u001b[0m \u001b[1;33m\u001b[0m\u001b[0m\n\u001b[0;32m      3\u001b[0m \u001b[1;32mimport\u001b[0m \u001b[0mtime\u001b[0m\u001b[1;33m\u001b[0m\u001b[0m\n\u001b[1;32m----> 4\u001b[1;33m \u001b[0mcv\u001b[0m\u001b[1;33m.\u001b[0m\u001b[0mNamedWindow\u001b[0m\u001b[1;33m(\u001b[0m\u001b[1;34m\"camera\"\u001b[0m\u001b[1;33m,\u001b[0m\u001b[1;36m1\u001b[0m\u001b[1;33m)\u001b[0m\u001b[1;33m\u001b[0m\u001b[0m\n\u001b[0m\u001b[0;32m      5\u001b[0m \u001b[0mcapture\u001b[0m \u001b[1;33m=\u001b[0m \u001b[0mcv\u001b[0m\u001b[1;33m.\u001b[0m\u001b[0mCaptureFromCAM\u001b[0m\u001b[1;33m(\u001b[0m\u001b[1;36m0\u001b[0m\u001b[1;33m)\u001b[0m\u001b[1;33m\u001b[0m\u001b[0m\n\u001b[0;32m      6\u001b[0m \u001b[1;32mwhile\u001b[0m \u001b[1;32mTrue\u001b[0m\u001b[1;33m:\u001b[0m\u001b[1;33m\u001b[0m\u001b[0m\n",
      "\u001b[1;31mNameError\u001b[0m: name 'cv' is not defined"
     ]
    }
   ],
   "source": [
    "import cv2\n",
    "\n",
    "import time\n",
    "cv.NamedWindow(\"camera\",1)\n",
    "capture = cv.CaptureFromCAM(0)  \n",
    "while True:\n",
    "    img = cv.QueryFrame(capture)\n",
    "    cv.ShowImage(\"camera\",img)\n",
    "    if cv.WaitKey(10) == 27:\n",
    "        break\n",
    "del(capture)\n",
    "cv.DestroyWindow(\"camera\")"
   ]
  },
  {
   "cell_type": "code",
   "execution_count": 8,
   "metadata": {},
   "outputs": [
    {
     "name": "stdout",
     "output_type": "stream",
     "text": [
      "成功打开了摄像头\n",
      "True\n"
     ]
    }
   ],
   "source": [
    "import time\n",
    "import cv2\n",
    "import numpy\n",
    "import matplotlib.pyplot as plot\n",
    "\n",
    "cap = cv2.VideoCapture(0)\n",
    "#fps = videocapture.get(cv2.CAP_PROP_FPS)\n",
    "if not cap.isOpened() :\n",
    "    print(\"摄像头未成功打开\")\n",
    "    print(cap.isOpened())\n",
    "else:\n",
    "    print(\"成功打开了摄像头\")\n",
    "    print(cap.isOpened())\n",
    "i=0\n",
    "j=0\n",
    "cap.set(3,1920)  #调整摄像头采集的窗口的宽度\n",
    "cap.set(4,1080)  #调整摄像头采集的窗口的高度\n",
    "#time.sleep(2)\n",
    "\n",
    "#cap.set(6, 50)   #调整每分钟的帧数，即帧率，这个与拖影没有关系，因为每帧的曝光时间是一致的\n",
    "cap.set(11,25)   #调整视频的亮度，是在原有的色彩上，每个像素点增加亮度，不会提高任何照片片的清晰度20-60\n",
    "cap.set(15,-6.0) #调整曝光时间，要想没有拖影，这个是关键，但是曝光时间端就会导致图片变暗，这也是没有办法的事，摄像头太差了\n",
    "#cap.set(17,1)    #调整是否转为rgb，这个没啥用\n",
    "while 1:          #这样一分钟就采集的太多了，我试了下30秒190张，肯定是不行的。\n",
    "    ret,image = cap.read()\n",
    "#    ret,image = cap.read()\n",
    "#    print(image.size())\n",
    "    if not ret:\n",
    "        break\n",
    "    cv2.imshow(\"Origin\", image)\n",
    "    i=i+1\n",
    "    \n",
    "    if i%5 == 0: \n",
    "        j=j+1\n",
    "        cv2.imwrite('opencv'+str(j)+'.png',image)\n",
    "        i=0;\n",
    "    if cv2.waitKey(25)&0xFF == ord('q'):\n",
    "        break\n",
    "    \n",
    "    \n",
    "cap.release()\n",
    "cv2.destroyAllWindows()"
   ]
  },
  {
   "cell_type": "markdown",
   "metadata": {},
   "source": [
    "# 简化版"
   ]
  },
  {
   "cell_type": "code",
   "execution_count": 1,
   "metadata": {},
   "outputs": [
    {
     "name": "stdout",
     "output_type": "stream",
     "text": [
      "成功打开了摄像头\n"
     ]
    }
   ],
   "source": [
    "import cv2\n",
    "\n",
    "cap = cv2.VideoCapture(0)\n",
    "if not cap.isOpened() :\n",
    "    print(\"摄像头未成功打开\")\n",
    "else:\n",
    "    print(\"成功打开了摄像头\")\n",
    "    \n",
    "cap.set(3,1920) \n",
    "cap.set(4,1080)\n",
    "cap.set(11,25)\n",
    "cap.set(15,-6.0)\n",
    "\n",
    "i=0\n",
    "j=0\n",
    "while 1: \n",
    "    ret,image = cap.read()\n",
    "    if not ret:\n",
    "        break\n",
    "    cv2.imshow(\"Origin\", image)\n",
    "    i=i+1\n",
    "    \n",
    "    if i%5 == 0: \n",
    "        j=j+1\n",
    "        cv2.imwrite('opencv'+str(j)+'.png',image)\n",
    "        i=0;\n",
    "    if cv2.waitKey(25)&0xFF == ord('q'):\n",
    "        break\n",
    "    \n",
    "    \n",
    "cap.release()\n",
    "cv2.destroyAllWindows()"
   ]
  },
  {
   "cell_type": "markdown",
   "metadata": {},
   "source": [
    "# 将摄像头抓取图片和运动检测图片的相似性结合起来"
   ]
  },
  {
   "cell_type": "code",
   "execution_count": 6,
   "metadata": {},
   "outputs": [
    {
     "name": "stdout",
     "output_type": "stream",
     "text": [
      "成功打开了摄像头\n"
     ]
    }
   ],
   "source": [
    "import cv2\n",
    "\n",
    "work_path = \"C:\\\\Users\\\\SiChen\\\\Desktop\\\\newfolder6\\\\\"\n",
    "cap = cv2.VideoCapture(0)\n",
    "if not cap.isOpened() :\n",
    "    print(\"摄像头未成功打开\")\n",
    "else:\n",
    "    print(\"成功打开了摄像头\")\n",
    "    \n",
    "cap.set(3,1920) \n",
    "cap.set(4,1080)\n",
    "cap.set(11,25)\n",
    "cap.set(15,-6.0)\n",
    "\n",
    "i=0\n",
    "j=0\n",
    "image0 = []\n",
    "while 1: \n",
    "    ret,image1 = cap.read()  #不能直接读取为灰度图像，以为我后面还要进行人脸识别呢\n",
    "    if not ret:\n",
    "        break\n",
    "    cv2.imshow(\"Origin\", image1)\n",
    "    i=i+1\n",
    "\n",
    "    if i%5 == 0: \n",
    "        #print(not image0)    #打印了一下not image0,发现一直是True，这就有问题了。\n",
    "        if not len(image0) :\n",
    "            image0 = image1\n",
    "            img_gray0 = cv2.cvtColor(image0,cv2.COLOR_BGR2GRAY)\n",
    "        #print(image0)        \n",
    "        img_gray1 = cv2.cvtColor(image1,cv2.COLOR_BGR2GRAY)\n",
    "        frame = cv2.absdiff(img_gray1,img_gray0)\n",
    "        img_gray0 = img_gray1\n",
    "        frame = (frame > 50)\n",
    "        #print(frame.cumsum().max())\n",
    "        if frame.cumsum().max() >= 25000:\n",
    "            cv2.imwrite(work_path + 'opencv'+str(j)+'.png',image1)\n",
    "            j=j+1\n",
    "        \n",
    "        if cv2.waitKey(25)&0xFF == ord('q'):\n",
    "            break\n",
    "        i = 0\n",
    "        \n",
    "cap.release()\n",
    "cv2.destroyAllWindows()"
   ]
  },
  {
   "cell_type": "code",
   "execution_count": 3,
   "metadata": {},
   "outputs": [
    {
     "data": {
      "text/plain": [
       "False"
      ]
     },
     "execution_count": 3,
     "metadata": {},
     "output_type": "execute_result"
    }
   ],
   "source": [
    "image = []\n",
    "image = [[1,2],[3,4]]\n",
    "not len(image)"
   ]
  },
  {
   "cell_type": "code",
   "execution_count": 1,
   "metadata": {},
   "outputs": [],
   "source": [
    "#打开视频  ,这段代码证明，可以直接打开MKV格式的视频.\n",
    "#显示的是灰色\n",
    "import numpy as np\n",
    "import cv2 as cv\n",
    "\n",
    "cap = cv.VideoCapture('C:\\\\Users\\\\SiChen\\\\Desktop\\\\爱情公寓第二季19.mkv')\n",
    "while(cap.isOpened()):\n",
    "    ret, frame = cap.read()\n",
    "    gray = cv.cvtColor(frame, cv.COLOR_BGR2GRAY)  \n",
    "    cv.imshow('frame',gray)\n",
    "    if cv.waitKey(25) & 0xFF == ord('q'):\n",
    "        break\n",
    "cap.release()\n",
    "cv.destroyAllWindows()"
   ]
  },
  {
   "cell_type": "code",
   "execution_count": 12,
   "metadata": {},
   "outputs": [],
   "source": [
    "#打开视频并显示为彩色视频\n",
    "import numpy as np\n",
    "import cv2 as cv\n",
    "i=0\n",
    "j=0\n",
    "cap = cv.VideoCapture('C:\\\\Users\\\\SiChen\\\\Desktop\\\\爱情公寓第二季20.mkv')\n",
    "while(cap.isOpened()):\n",
    "    ret, frame = cap.read()\n",
    "    #gray = cv.cvtColor(frame, cv.COLOR_BGR2GRAY)  #不用转了，直接就是RGB，看来，OPENCV改版了\n",
    "    cv.imshow('frame',frame)\n",
    "            \n",
    "    if cv.waitKey(1) & 0xFF == ord('q'):\n",
    "        break\n",
    "cap.release()\n",
    "cv.destroyAllWindows()"
   ]
  },
  {
   "cell_type": "code",
   "execution_count": 1,
   "metadata": {},
   "outputs": [],
   "source": [
    "import numpy as np\n",
    "import cv2\n",
    "i=0\n",
    "j=0\n",
    "work_path = \"E:\\\\D_Continue\\\\newfolder200\"\n",
    "cap = cv2.VideoCapture('E:\\\\爱情公寓第二季08.mkv')\n",
    "while(cap.isOpened()):\n",
    "    ret, frame = cap.read()\n",
    "    #gray = cv.cvtColor(frame, cv.COLOR_BGR2GRAY)  #不用转了，直接就是RGB，看来，OPENCV改版了\n",
    "    #print(ret)\n",
    "    if ret==False:\n",
    "        break\n",
    "    cv2.imshow('frame',frame)\n",
    "    i=i+1 \n",
    "    \n",
    "    if i%10 == 0: \n",
    "        cv2.imwrite(work_path + '\\\\opencv'+str(j)+'.png',frame)\n",
    "        j=j+1\n",
    "        i=0        \n",
    "        \n",
    "    if cv2.waitKey(25) & 0xFF == ord('q'):\n",
    "        break\n",
    "cap.release()\n",
    "cv2.destroyAllWindows()"
   ]
  },
  {
   "cell_type": "code",
   "execution_count": null,
   "metadata": {},
   "outputs": [],
   "source": []
  }
 ],
 "metadata": {
  "kernelspec": {
   "display_name": "Python 3",
   "language": "python",
   "name": "python3"
  },
  "language_info": {
   "codemirror_mode": {
    "name": "ipython",
    "version": 3
   },
   "file_extension": ".py",
   "mimetype": "text/x-python",
   "name": "python",
   "nbconvert_exporter": "python",
   "pygments_lexer": "ipython3",
   "version": "3.5.4"
  }
 },
 "nbformat": 4,
 "nbformat_minor": 2
}
