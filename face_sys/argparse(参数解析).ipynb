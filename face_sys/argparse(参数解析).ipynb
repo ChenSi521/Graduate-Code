{
 "cells": [
  {
   "cell_type": "code",
   "execution_count": 2,
   "metadata": {},
   "outputs": [
    {
     "name": "stderr",
     "output_type": "stream",
     "text": [
      "usage: ipykernel_launcher.py [-h] [-r RACE]\n",
      "                             [-a {0,1,2,3,4,5,6,7,8,9,10,11,12,13,14,15,16,17,18,19,20,21,22,23,24,25,26,27,28,29,30,31,32,33,34,35,36,37,38,39,40,41,42,43,44,45,46,47,48,49,50,51,52,53,54,55,56,57,58,59,60,61,62,63,64,65,66,67,68,69,70,71,72,73,74,75,76,77,78,79,80,81,82,83,84,85,86,87,88,89,90,91,92,93,94,95,96,97,98,99,100,101,102,103,104,105,106,107,108,109,110,111,112,113,114,115,116,117,118,119,120,121,122,123,124,125,126,127,128,129,130,131,132,133,134,135,136,137,138,139,140,141,142,143,144,145,146,147,148,149}]\n",
      "                             [-s {male,female}] [-p [PARENT [PARENT ...]]]\n",
      "                             [-o [OTHER [OTHER ...]]]\n",
      "                             name birth\n",
      "ipykernel_launcher.py: error: the following arguments are required: birth\n"
     ]
    },
    {
     "ename": "SystemExit",
     "evalue": "2",
     "output_type": "error",
     "traceback": [
      "An exception has occurred, use %tb to see the full traceback.\n",
      "\u001b[1;31mSystemExit\u001b[0m\u001b[1;31m:\u001b[0m 2\n"
     ]
    },
    {
     "name": "stderr",
     "output_type": "stream",
     "text": [
      "d:\\Anaconda3\\envs\\pytorch\\lib\\site-packages\\IPython\\core\\interactiveshell.py:2918: UserWarning: To exit: use 'exit', 'quit', or Ctrl-D.\n",
      "  warn(\"To exit: use 'exit', 'quit', or Ctrl-D.\", stacklevel=1)\n"
     ]
    }
   ],
   "source": [
    "#!/usr/bin/python\n",
    "# -*- coding: utf-8 -*-\n",
    "import sys\n",
    "import argparse\n",
    "\n",
    "def cmd():\n",
    "    args = argparse.ArgumentParser(description = 'Personal Information ',epilog = 'Information end ')\n",
    "    #必写属性,第一位\n",
    "    args.add_argument(\"name\",         type = str,                  help = \"Your name\")\n",
    "    #必写属性,第二位\n",
    "    args.add_argument(\"birth\",        type = str,                  help = \"birthday\")\n",
    "    #可选属性,默认为None\n",
    "    args.add_argument(\"-r\",'--race',  type = str, dest = \"race\",   help = u\"民族\")\n",
    "    #可选属性,默认为0,范围必须在0~150\n",
    "    args.add_argument(\"-a\", \"--age\",  type = int, dest = \"age\",    help = \"Your age\",         default = 0,      choices=range(150))\n",
    "    #可选属性,默认为male\n",
    "    args.add_argument('-s',\"--sex\",   type = str, dest = \"sex\",    help = 'Your sex',         default = 'male', choices=['male', 'female'])\n",
    "    #可选属性,默认为None,-p后可接多个参数\n",
    "    args.add_argument(\"-p\",\"--parent\",type = str, dest = 'parent', help = \"Your parent\",      default = \"None\", nargs = '*')\n",
    "    #可选属性,默认为None,-o后可接多个参数\n",
    "    args.add_argument(\"-o\",\"--other\", type = str, dest = 'other',  help = \"other Information\",required = False,nargs = '*')\n",
    "\n",
    "    args = args.parse_args()#返回一个命名空间,如果想要使用变量,可用args.attr\n",
    "    print(\"argparse.args=\",args,type(args))\n",
    "    print ('name = %s'%args.name)\n",
    "    d = args.__dict__\n",
    "    for key,value in d.iteritems():\n",
    "        print ('%s = %s'%(key,value))\n",
    "\n",
    "if __name__==\"__main__\":\n",
    "    cmd()"
   ]
  },
  {
   "cell_type": "code",
   "execution_count": null,
   "metadata": {},
   "outputs": [],
   "source": []
  }
 ],
 "metadata": {
  "kernelspec": {
   "display_name": "Python 3",
   "language": "python",
   "name": "python3"
  },
  "language_info": {
   "codemirror_mode": {
    "name": "ipython",
    "version": 3
   },
   "file_extension": ".py",
   "mimetype": "text/x-python",
   "name": "python",
   "nbconvert_exporter": "python",
   "pygments_lexer": "ipython3",
   "version": "3.5.4"
  }
 },
 "nbformat": 4,
 "nbformat_minor": 2
}
